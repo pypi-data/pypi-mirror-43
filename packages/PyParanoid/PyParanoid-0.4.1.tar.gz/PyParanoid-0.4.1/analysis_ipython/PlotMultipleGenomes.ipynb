{
 "cells": [
  {
   "cell_type": "code",
   "execution_count": 1,
   "metadata": {
    "collapsed": false,
    "deletable": true,
    "editable": true
   },
   "outputs": [],
   "source": [
    "import pyparanoid.genomedb as gdb\n",
    "import pyparanoid.genomeplot as gplot"
   ]
  },
  {
   "cell_type": "code",
   "execution_count": 2,
   "metadata": {
    "collapsed": true,
    "deletable": true,
    "editable": true
   },
   "outputs": [],
   "source": [
    "### Load a list of strains that have been added to a genome database\n",
    "### you've built using pyparanoid.genomedb methods.\n",
    "\n",
    "strains = [line.rstrip() for line in open(\"../src/Brass.txt\",\"r\")]"
   ]
  },
  {
   "cell_type": "code",
   "execution_count": 3,
   "metadata": {
    "collapsed": false,
    "deletable": true,
    "editable": true
   },
   "outputs": [
    {
     "name": "stdout",
     "output_type": "stream",
     "text": [
      "3 of 3 prokka genbank files available.\n",
      "19 of 19 Ensembl genbank files available.\n",
      "65 of 65 refseq files available.\n"
     ]
    }
   ],
   "source": [
    "### First, use the download_genbank_files() function to check if all \n",
    "### of the strains have genbank files and download the ones that are\n",
    "### missing from RefSeq and Ensembl.\n",
    "\n",
    "\n",
    "gdb.download_genbank_files(strains,\"../../data/genomedb\")"
   ]
  },
  {
   "cell_type": "code",
   "execution_count": 4,
   "metadata": {
    "collapsed": false,
    "deletable": true,
    "editable": true
   },
   "outputs": [],
   "source": [
    "### Now let's generate a list of strains and locus tags for a specific\n",
    "### PyParanoid group that we are interested in.\n",
    "\n",
    "from Bio import SeqIO\n",
    "\n",
    "o = open(\"../src/locus_tag_list.txt\",'w')\n",
    "\n",
    "for seq in SeqIO.parse(open(\"../../data/Pseudo/prop_homolog_faa/group_22008.faa\",'r'),'fasta'):\n",
    "    vals = seq.id.split(\"|\")\n",
    "    if vals[0] in strains:\n",
    "        o.write(\"{}\\t{}\\n\".format(vals[0],vals[1]))\n",
    "o.close()\n",
    "\n",
    "!head -n 5 ../src/locus_tag_list.txt > ../src/plot_list.txt\n",
    "\n",
    "\n",
    "## You can modify this file to add strains"
   ]
  },
  {
   "cell_type": "code",
   "execution_count": 5,
   "metadata": {
    "collapsed": false,
    "deletable": true,
    "editable": true
   },
   "outputs": [],
   "source": [
    "## This function will plot genomic regions from the strains in \"locus_tag_list.txt\", use the\n",
    "## genbank files in \"genomedb\", and color the results based on PyParanoid group membership.\n",
    "\n",
    "## This step can take a while...eventually I'm going to come back to this to optimize the\n",
    "## homolog searching. You can also dump this GenomeDiagram object to a python pickle for\n",
    "## future work.\n",
    "\n",
    "\n",
    "GD = gplot.plot_genomic_regions(\"../src/plot_list.txt\",\"../../data/genomedb\", \\\n",
    "                                \"../../data/Pseudo\")"
   ]
  },
  {
   "cell_type": "code",
   "execution_count": 6,
   "metadata": {
    "collapsed": false,
    "deletable": true,
    "editable": true
   },
   "outputs": [],
   "source": [
    "GD.draw(x=0.02,format=\"linear\", orientation = \"landscape\", track_size=0.35, fragments=1)\n",
    "GD.write(\"all_group22008.pdf\", \"pdf\")"
   ]
  },
  {
   "cell_type": "code",
   "execution_count": 7,
   "metadata": {
    "collapsed": false,
    "deletable": true,
    "editable": true
   },
   "outputs": [
    {
     "data": {
      "text/html": [
       "\n",
       "        <iframe\n",
       "            width=\"600\"\n",
       "            height=\"300\"\n",
       "            src=\"all_group22008.pdf\"\n",
       "            frameborder=\"0\"\n",
       "            allowfullscreen\n",
       "        ></iframe>\n",
       "        "
      ],
      "text/plain": [
       "<IPython.lib.display.IFrame at 0x117ffa0d0>"
      ]
     },
     "execution_count": 7,
     "metadata": {},
     "output_type": "execute_result"
    }
   ],
   "source": [
    "from IPython.display import IFrame\n",
    "IFrame(\"all_group22008.pdf\", width=600, height=300)"
   ]
  },
  {
   "cell_type": "code",
   "execution_count": 8,
   "metadata": {
    "collapsed": false,
    "deletable": true,
    "editable": true
   },
   "outputs": [],
   "source": [
    "## Optionally, you can specify a set of gene groups to highlight in green as well as a custom \n",
    "## size window span to view a larger chunk of the genome.\n",
    "\n",
    "## Setting labels=True is sometimes helpful for smaller plots, but generally leads to clutter \n",
    "## when you are looking at many genomes.\n",
    "\n",
    "highlight = [\"group_16803\",\"group_22008\",\"group_15086\",\"group_06700\",\"group_10985\",\\\n",
    "             \"group_09490\",\"group_10988\"]\n",
    "\n",
    "GD2 = gplot.plot_genomic_regions(\"../src/plot_list.txt\",\"../../data/genomedb\",\\\n",
    "    \"../../data/Pseudo\",span=90000,hl_groups=highlight,labels=True)\n"
   ]
  },
  {
   "cell_type": "code",
   "execution_count": 9,
   "metadata": {
    "collapsed": false,
    "deletable": true,
    "editable": true
   },
   "outputs": [
    {
     "data": {
      "text/html": [
       "\n",
       "        <iframe\n",
       "            width=\"600\"\n",
       "            height=\"300\"\n",
       "            src=\"highlighted_group22008.pdf\"\n",
       "            frameborder=\"0\"\n",
       "            allowfullscreen\n",
       "        ></iframe>\n",
       "        "
      ],
      "text/plain": [
       "<IPython.lib.display.IFrame at 0x118a56590>"
      ]
     },
     "execution_count": 9,
     "metadata": {},
     "output_type": "execute_result"
    }
   ],
   "source": [
    "GD2.draw(x=0.02,format=\"linear\", orientation = \"landscape\", track_size=0.35, fragments=1, \\\n",
    "        start=0, end=100000, pagesize=(1000,4000))\n",
    "GD2.write(\"highlighted_group22008.pdf\", \"pdf\")\n",
    "IFrame(\"highlighted_group22008.pdf\", width=600, height=300)"
   ]
  }
 ],
 "metadata": {
  "kernelspec": {
   "display_name": "Python 2",
   "language": "python",
   "name": "python2"
  },
  "language_info": {
   "codemirror_mode": {
    "name": "ipython",
    "version": 2
   },
   "file_extension": ".py",
   "mimetype": "text/x-python",
   "name": "python",
   "nbconvert_exporter": "python",
   "pygments_lexer": "ipython2",
   "version": "2.7.12"
  }
 },
 "nbformat": 4,
 "nbformat_minor": 2
}
