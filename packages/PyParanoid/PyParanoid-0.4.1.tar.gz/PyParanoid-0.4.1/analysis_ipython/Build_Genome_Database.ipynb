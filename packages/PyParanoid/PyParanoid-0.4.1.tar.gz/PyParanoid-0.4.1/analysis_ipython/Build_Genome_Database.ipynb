{
 "cells": [
  {
   "cell_type": "code",
   "execution_count": 1,
   "metadata": {
    "collapsed": false,
    "deletable": true,
    "editable": true
   },
   "outputs": [],
   "source": [
    "import pyparanoid.genomedb as gdb"
   ]
  },
  {
   "cell_type": "code",
   "execution_count": 2,
   "metadata": {
    "collapsed": false,
    "deletable": true,
    "editable": true
   },
   "outputs": [
    {
     "name": "stdout",
     "output_type": "stream",
     "text": [
      "Setting up test_genomedb\n"
     ]
    }
   ],
   "source": [
    "### The pyparanoid.genomedb module contains functions for downloading and \n",
    "### organizing genomic data from Ensembl, NCBI, and local sources.\n",
    "\n",
    "### Fasta protein data is stored in subfolder 'pep' and metadata is in\n",
    "### flat file 'genome_metadata.txt'\n",
    "\n",
    "### Folders are made for DNA fasta and Genbank files, but these aren't\n",
    "### populated from Ensembl or NCBI sources to save disk space.\n",
    "\n",
    "\n",
    "### Initialize a folder for the genome database\n",
    "gdb.setupdirs(\"../test_genomedb\")"
   ]
  },
  {
   "cell_type": "code",
   "execution_count": 3,
   "metadata": {
    "collapsed": false,
    "deletable": true,
    "editable": true
   },
   "outputs": [
    {
     "name": "stdout",
     "output_type": "stream",
     "text": [
      "Current release of EnsemblBacteria: release-40\n",
      "\t10000 JSON records parsed.\n",
      "\t20000 JSON records parsed.\n",
      "\t30000 JSON records parsed.\n",
      "\t40000 JSON records parsed.\n",
      "\t44048 total JSON records parsed...\n",
      "\tMaximum of 10 genomes reached...\n",
      "0 found in test_genomedb.\n",
      "10 genomes in queue to download...\n",
      "Downloading 10 genome files...\n"
     ]
    }
   ],
   "source": [
    "### The only argument needed is the path to the folder for genomic data\n",
    "### Only AA fasta files will be downloaded, as well as some metadata.\n",
    "\n",
    "### Default behavior is to download only 10 complete genomes at a time\n",
    "### that haven't already been downloaded.\n",
    "\n",
    "### The first time a new release of EnsemblBacteria is downloaded, a metadata\n",
    "### file named release-XX.txt will be made to facilitate future downloads. This \n",
    "### lengthy step will not be performed in later steps.\n",
    "\n",
    "gdb.download_Ensembl_files(\"../test_genomedb\")"
   ]
  },
  {
   "cell_type": "code",
   "execution_count": 4,
   "metadata": {
    "collapsed": false,
    "deletable": true,
    "editable": true
   },
   "outputs": [
    {
     "name": "stdout",
     "output_type": "stream",
     "text": [
      "Current release of EnsemblBacteria: release-40\n",
      "release-40.txt found in ../test_genomedb...parsing...\n",
      "10 found in test_genomedb.\n",
      "160 genomes in queue to download...\n",
      "Downloading 160 genome files...\n",
      "\t100 files downloaded.\n"
     ]
    }
   ],
   "source": [
    "### You can also download all of the genomes with certain names.\n",
    "### This downloads anything with a matching genus or species - spelling counts!\n",
    "\n",
    "### Also, set maxgen=None to download all genomes that fit your criteria.\n",
    "\n",
    "### Also also, set complete=False to download draft genomes as well\n",
    "\n",
    "gdb.download_Ensembl_files(\"../test_genomedb\", maxgen=None, \\\n",
    "    names=\"syringae,fluorescens\", complete=False)"
   ]
  },
  {
   "cell_type": "code",
   "execution_count": 5,
   "metadata": {
    "collapsed": false,
    "deletable": true,
    "editable": true
   },
   "outputs": [
    {
     "name": "stdout",
     "output_type": "stream",
     "text": [
      "Current release of EnsemblBacteria: release-40\n",
      "release-40.txt found in ../test_genomedb...parsing...\n",
      "\tMaximum of 5 genomes reached...\n",
      "170 found in test_genomedb.\n",
      "5 genomes in queue to download...\n",
      "Downloading 5 genome files...\n"
     ]
    }
   ],
   "source": [
    "### Alternatively you can use taxonomy IDs\n",
    "### Consult http://bacteria.ensembl.org/species.html\n",
    "\n",
    "### Specifying maxgen as an integer sets a limit on # of genomes.\n",
    "### This can be useful for avoiding time-out errors.\n",
    "\n",
    "gdb.download_Ensembl_files(\"../test_genomedb\", maxgen=5, \\\n",
    "    taxids=\"178900,178901\", complete=False)"
   ]
  },
  {
   "cell_type": "code",
   "execution_count": 6,
   "metadata": {
    "collapsed": false,
    "deletable": true,
    "editable": true
   },
   "outputs": [
    {
     "name": "stdout",
     "output_type": "stream",
     "text": [
      "Downloading files for herbaspirillum...\n",
      "\tworking on fasta files...\n",
      "\tworking on protein-fasta files...\n",
      "\tworking on assembly-stats files...\n",
      "Downloading files for azospirillum...\n",
      "\tworking on fasta files...\n",
      "\tworking on protein-fasta files...\n",
      "\tworking on assembly-stats files...\n",
      "Downloading files for 294...\n",
      "\tworking on fasta files...\n",
      "\tworking on protein-fasta files...\n",
      "\tworking on assembly-stats files...\n",
      "Downloading files for 178900...\n",
      "\tworking on fasta files...\n",
      "\tworking on protein-fasta files...\n",
      "\tworking on assembly-stats files...\n",
      "Downloading files for 178901...\n",
      "\tworking on fasta files...\n",
      "\tworking on protein-fasta files...\n",
      "\tworking on assembly-stats files...\n",
      "169 genomes to process.\n",
      "100 processed...\n",
      "169 genomes processed and 135 added to test_genomedb.\n"
     ]
    }
   ],
   "source": [
    "### You can also download files from NCBI RefSeq database.\n",
    "\n",
    "### Specify species names and taxids separated by commas.\n",
    "\n",
    "### Use 'cpus' to utilize multiple threads to download genomes (default = 1)\n",
    "\n",
    "gdb.download_Refseq_files(\"../test_genomedb\", cpus=4, \\\n",
    "    names=\"herbaspirillum,azospirillum\", taxids=\"294,178900,178901\")"
   ]
  },
  {
   "cell_type": "code",
   "execution_count": 7,
   "metadata": {
    "collapsed": false,
    "deletable": true,
    "editable": true
   },
   "outputs": [
    {
     "name": "stdout",
     "output_type": "stream",
     "text": [
      "Species ID is unique! Moving on...\n",
      "Copying files for pseudomonas_sp_wcs365\n"
     ]
    }
   ],
   "source": [
    "### Once a genomic database folder has been initialized with Ensembl or Genbank data,\n",
    "### you can add in-house genomes annotated with Prokka\n",
    "\n",
    "### Specify path to genomedb, path to Prokka folder, and a species id - the species id\n",
    "### can't be already in use in the genomedb\n",
    "\n",
    "gdb.add_Prokka_genome(\"../test_genomedb\", \"../../assemblies/WCS365_prokka\", \\\n",
    "    \"pseudomonas_sp_wcs365\")"
   ]
  },
  {
   "cell_type": "code",
   "execution_count": 8,
   "metadata": {
    "collapsed": false,
    "deletable": true,
    "editable": true
   },
   "outputs": [
    {
     "name": "stdout",
     "output_type": "stream",
     "text": [
      "Species ID is unique! Moving on...\n",
      "Copying files for pseudomonas_sp_ch267\n"
     ]
    }
   ],
   "source": [
    "### Specify 'taxid' argument to add a NCBI taxonomy code. If none specified, \n",
    "### defaults to \"2\" for Bacteria kingdom\n",
    "\n",
    "gdb.add_Prokka_genome(\"../test_genomedb\", \"../../assemblies/CH267_prokka\", \\\n",
    "    \"pseudomonas_sp_ch267\", taxid=\"294\")"
   ]
  },
  {
   "cell_type": "code",
   "execution_count": 9,
   "metadata": {
    "collapsed": false,
    "deletable": true,
    "editable": true
   },
   "outputs": [
    {
     "name": "stdout",
     "output_type": "stream",
     "text": [
      "Extracting 312 taxonomy records from Entrez-NCBI...\n",
      "300 records remaining...\n",
      "200 records remaining...\n",
      "100 records remaining...\n",
      "0 records remaining...\n",
      "Done!\n"
     ]
    }
   ],
   "source": [
    "### You can also get taxonomic information for each genome in the database\n",
    "### This is stored in the flat file 'tax_info.txt'\n",
    "\n",
    "gdb.get_taxonomy(\"../test_genomedb\")"
   ]
  },
  {
   "cell_type": "code",
   "execution_count": 16,
   "metadata": {
    "collapsed": false
   },
   "outputs": [
    {
     "data": {
      "text/plain": [
       "['_clostridium_cellulolyticum_h10',\n",
       " '_bacillus_selenitireducens_mls10',\n",
       " '_clostridium_cellulosi',\n",
       " '_clostridium_sordellii',\n",
       " '_clostridium_acidurici_9a',\n",
       " '_clostridium_clariflavum_dsm_19732',\n",
       " '_bacillus_thuringiensis_serovar_konkukian_str_97_27',\n",
       " '_clostridium_saccharolyticum_wm1',\n",
       " '_clostridium_propionicum_dsm_1682']"
      ]
     },
     "execution_count": 16,
     "metadata": {},
     "output_type": "execute_result"
    }
   ],
   "source": [
    "### The previous methods for downloading data only download protein fasta\n",
    "### files. To download DNA fasta files and genbank files there are format-specific\n",
    "### commands.\n",
    "\n",
    "### The first argument for both is an array containing the unique strain names of the species\n",
    "### to download. These are the prefix before 'pep.fa' or the \"species\" field of the\n",
    "### genome_metadata.txt files.\n",
    "\n",
    "### As an example, to make the strain names array:\n",
    "\n",
    "!cut -f 3 ../test_genomedb/genome_metadata.txt | head -n 10 > \"test_list.txt\"\n",
    "\n",
    "strains = [line.rstrip() for line in open(\"test_list.txt\",'r') if line.rstrip() not in [\"species\"]]\n",
    "\n",
    "strains\n"
   ]
  },
  {
   "cell_type": "code",
   "execution_count": 17,
   "metadata": {
    "collapsed": false
   },
   "outputs": [
    {
     "name": "stdout",
     "output_type": "stream",
     "text": [
      "0 of 0 prokka DNA files available.\n",
      "9 of 9 Ensembl DNA files available.\n",
      "0 of 0 refseq DNA files available.\n"
     ]
    }
   ],
   "source": [
    "gdb.download_dna_files(strains,\"../test_genomedb\")"
   ]
  },
  {
   "cell_type": "code",
   "execution_count": 18,
   "metadata": {
    "collapsed": false
   },
   "outputs": [
    {
     "name": "stdout",
     "output_type": "stream",
     "text": [
      "0 of 0 prokka genbank files available.\n",
      "9 of 9 Ensembl genbank files available.\n",
      "0 of 0 refseq genbank files available.\n"
     ]
    }
   ],
   "source": [
    "gdb.download_genbank_files(strains,\"../test_genomedb\")"
   ]
  },
  {
   "cell_type": "code",
   "execution_count": null,
   "metadata": {
    "collapsed": true
   },
   "outputs": [],
   "source": []
  }
 ],
 "metadata": {
  "kernelspec": {
   "display_name": "Python 2",
   "language": "python",
   "name": "python2"
  },
  "language_info": {
   "codemirror_mode": {
    "name": "ipython",
    "version": 2
   },
   "file_extension": ".py",
   "mimetype": "text/x-python",
   "name": "python",
   "nbconvert_exporter": "python",
   "pygments_lexer": "ipython2",
   "version": "2.7.12"
  }
 },
 "nbformat": 4,
 "nbformat_minor": 2
}
