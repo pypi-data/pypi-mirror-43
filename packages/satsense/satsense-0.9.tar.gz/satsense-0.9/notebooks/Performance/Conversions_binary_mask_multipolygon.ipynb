{
 "cells": [
  {
   "cell_type": "markdown",
   "metadata": {},
   "source": [
    "# Conversions between binary mask and multipolygon \n",
    "## Simple example"
   ]
  },
  {
   "cell_type": "markdown",
   "metadata": {},
   "source": [
    "This notebook illustrates via a simle example the conversions between a binary mask and a multipolygonal shape and the loading and saving to image and shape files using `satsense` python library.\n"
   ]
  },
  {
   "cell_type": "markdown",
   "metadata": {},
   "source": [
    "### Generate a toy shape as multipolygon"
   ]
  },
  {
   "cell_type": "code",
   "execution_count": 1,
   "metadata": {},
   "outputs": [
    {
     "name": "stdout",
     "output_type": "stream",
     "text": [
      "Multipolygon is valid?:  True\n"
     ]
    }
   ],
   "source": [
    "# Python package imports\n",
    "from shapely.geometry import MultiPolygon # for multipolygon data structure\n",
    "\n",
    "# Create a multipolygon\n",
    "a = [(2,6), (4,6), (4,9), (2,9), (2,6)]\n",
    "b = [(6,9), (7,6), (9,4),(9,8), (7,9),(6,9)]\n",
    "c = [(1,1), (5,1),(5,4),(3,4),(1,1)]\n",
    "d = [(6,1), (10,1),(7,3),(6,1)]\n",
    "\n",
    "multi = MultiPolygon([[a, []], [b, []] ,[c, []], [d, []]])\n",
    "\n",
    "print('Multipolygon is valid?: ', multi.is_valid)"
   ]
  },
  {
   "cell_type": "markdown",
   "metadata": {},
   "source": [
    "### Display the mulipolygon"
   ]
  },
  {
   "cell_type": "code",
   "execution_count": 2,
   "metadata": {},
   "outputs": [
    {
     "data": {
      "image/png": "[encoded data removed]",
      "text/plain": [
       "<matplotlib.figure.Figure at 0x7f01bc5df0f0>"
      ]
     },
     "metadata": {},
     "output_type": "display_data"
    },
    {
     "name": "stdout",
     "output_type": "stream",
     "text": [
      "The area of the multi-polygon is 27.5\n"
     ]
    }
   ],
   "source": [
    "# Python package imports\n",
    "from matplotlib import pyplot # for plots\n",
    "from satsense.util.shapefile import show_multipolygon as shmp # visualization of multipolygons\n",
    "\n",
    "# Visualization parameters\n",
    "ORANGE = '#FF6600'\n",
    "al = 0.8\n",
    "show_verticies = True\n",
    "extent = [0, 0, 10, 10] # format of extent is [xmin, ymin, xmax, ymax]\n",
    "\n",
    "# Display the multipolygon\n",
    "fig = pyplot.figure(1, dpi=90)\n",
    "ax = fig.add_subplot(111)\n",
    "\n",
    "shmp(multi, ax, show_verticies, extent, ORANGE, al, 'multipolygon')\n",
    "\n",
    "pyplot.show()\n",
    "\n",
    "# area\n",
    "area = multi.area\n",
    "print(\"The area of the multi-polygon is\", area)"
   ]
  },
  {
   "cell_type": "markdown",
   "metadata": {
    "collapsed": true
   },
   "source": [
    "### Convert the multipolygon to a binary mask"
   ]
  },
  {
   "cell_type": "code",
   "execution_count": 3,
   "metadata": {},
   "outputs": [
    {
     "name": "stdout",
     "output_type": "stream",
     "text": [
      "[[  0   0   0   0   0   0   0   0   0   0]\n",
      " [  0 255 255 255 255   0 255 255 255   0]\n",
      " [  0   0 255 255 255   0   0 255   0   0]\n",
      " [  0   0   0 255 255   0   0   0   0   0]\n",
      " [  0   0   0   0   0   0   0   0   0   0]\n",
      " [  0   0   0   0   0   0   0   0 255   0]\n",
      " [  0   0 255 255   0   0   0 255 255   0]\n",
      " [  0   0 255 255   0   0   0 255 255   0]\n",
      " [  0   0 255 255   0   0 255 255   0   0]\n",
      " [  0   0   0   0   0   0   0   0   0   0]]\n",
      "(10, 10)\n"
     ]
    },
    {
     "data": {
      "image/png": "[encoded data removed]",
      "text/plain": [
       "<matplotlib.figure.Figure at 0x7f0186e529b0>"
      ]
     },
     "metadata": {},
     "output_type": "display_data"
    }
   ],
   "source": [
    "# Python package imports\n",
    "from satsense.util.conversions import multipolygon2mask as mp2m # conversion from multipolygon to mask\n",
    "\n",
    "# parameters\n",
    "rows = 10\n",
    "cols = 10\n",
    "default_val = 255\n",
    "all_touched = False\n",
    "binary_mask1 = mp2m(multi, rows, cols, default_val, all_touched)\n",
    "\n",
    "# print and display mask\n",
    "print(binary_mask1)\n",
    "print(binary_mask1.shape)\n",
    "pyplot.imshow(binary_mask1, cmap='gray', origin='lower')\n",
    "pyplot.title('Binary mask with all_touched = False')\n",
    "pyplot.show()"
   ]
  },
  {
   "cell_type": "code",
   "execution_count": 4,
   "metadata": {},
   "outputs": [
    {
     "name": "stdout",
     "output_type": "stream",
     "text": [
      "[[  0   0   0   0   0   0   0   0   0   0]\n",
      " [  0 255 255 255 255 255 255 255 255 255]\n",
      " [  0 255 255 255 255 255 255 255 255   0]\n",
      " [  0   0 255 255 255 255   0 255   0   0]\n",
      " [  0   0   0 255 255 255   0   0 255 255]\n",
      " [  0   0   0   0   0   0   0 255 255 255]\n",
      " [  0   0 255 255 255   0 255 255 255 255]\n",
      " [  0   0 255 255 255   0 255 255 255 255]\n",
      " [  0   0 255 255 255   0 255 255 255 255]\n",
      " [  0   0 255 255 255   0 255 255   0   0]]\n",
      "(10, 10)\n"
     ]
    },
    {
     "data": {
      "image/png": "[encoded data removed]",
      "text/plain": [
       "<matplotlib.figure.Figure at 0x7f01bc5dac18>"
      ]
     },
     "metadata": {},
     "output_type": "display_data"
    }
   ],
   "source": [
    "# parameters\n",
    "all_touched = True\n",
    "binary_mask2 = mp2m(multi, rows, cols, default_val, all_touched)\n",
    "\n",
    "# print and display mask\n",
    "print(binary_mask2)\n",
    "print(binary_mask2.shape)\n",
    "pyplot.imshow(binary_mask2, cmap='gray', origin='lower')\n",
    "pyplot.title('Binary mask with all_touched = True')\n",
    "pyplot.show()"
   ]
  },
  {
   "cell_type": "markdown",
   "metadata": {},
   "source": [
    "### Saving binary mask to file"
   ]
  },
  {
   "cell_type": "code",
   "execution_count": 5,
   "metadata": {},
   "outputs": [
    {
     "name": "stdout",
     "output_type": "stream",
     "text": [
      "Binary mask 1 is saved at  /home/elena/DynaSlum/Data/misc/simple_example_multipolygon_mask1.tif\n",
      "Binary mask 2 is saved at  /home/elena/DynaSlum/Data/misc/simple_example_multipolygon_mask2.tif\n"
     ]
    },
    {
     "name": "stderr",
     "output_type": "stream",
     "text": [
      "/home/elena/anaconda3/envs/satelite/lib/python3.5/site-packages/rasterio/__init__.py:193: UserWarning: Dataset has no geotransform set.  Default transform will be applied (Affine.identity())\n",
      "  s.start()\n"
     ]
    }
   ],
   "source": [
    "# Python and satsense imports\n",
    "import os.path\n",
    "from satsense.util.mask import save_mask2file\n",
    "\n",
    "# raster filenames\n",
    "path = '/home/elena/DynaSlum/Data/misc/'\n",
    "ext = 'tif'\n",
    "fname1 = 'simple_example_multipolygon_mask1' + '.' + ext\n",
    "mask_fullfname1 = os.path.join(path, fname1)\n",
    "\n",
    "fname2 = 'simple_example_multipolygon_mask2' + '.' + ext\n",
    "mask_fullfname2 = os.path.join(path, fname2)\n",
    "\n",
    "# save\n",
    "save_mask2file(binary_mask1, mask_fullfname1)\n",
    "print(\"Binary mask 1 is saved at \", mask_fullfname1)\n",
    "save_mask2file(binary_mask2, mask_fullfname2)\n",
    "print(\"Binary mask 2 is saved at \", mask_fullfname2)"
   ]
  },
  {
   "cell_type": "markdown",
   "metadata": {},
   "source": [
    "### Loading binary mask from file"
   ]
  },
  {
   "cell_type": "code",
   "execution_count": 6,
   "metadata": {},
   "outputs": [
    {
     "data": {
      "image/png": "[encoded data removed]",
      "text/plain": [
       "<matplotlib.figure.Figure at 0x7f0186d4a7b8>"
      ]
     },
     "metadata": {},
     "output_type": "display_data"
    }
   ],
   "source": [
    "# satsense import\n",
    "from satsense.util.mask import load_mask_from_file\n",
    "\n",
    "saved_mask1 = load_mask_from_file(mask_fullfname1)\n",
    "\n",
    "f, (ax1, ax2) = pyplot.subplots(1, 2, sharey=True)\n",
    "\n",
    "ax1.imshow(saved_mask1, cmap='gray', origin = 'lower')\n",
    "ax1.set_title('Saved binary mask1')\n",
    "\n",
    "saved_mask2 = load_mask_from_file(mask_fullfname2)\n",
    "\n",
    "ax2.imshow(saved_mask2, cmap='gray', origin = 'lower')\n",
    "ax2.set_title('Saved binary mask2')\n",
    "pyplot.show()"
   ]
  },
  {
   "cell_type": "markdown",
   "metadata": {},
   "source": [
    "### Conversion of binary mask to multipolygon"
   ]
  },
  {
   "cell_type": "code",
   "execution_count": 7,
   "metadata": {},
   "outputs": [
    {
     "name": "stderr",
     "output_type": "stream",
     "text": [
      "Ring Self-intersection at or near point 8 4\n",
      "Ring Self-intersection at or near point 8 4\n"
     ]
    },
    {
     "name": "stdout",
     "output_type": "stream",
     "text": [
      "Valid multi-polygon1 with connectivity 4? True\n",
      "Valid multi-polygon1 with connectivity 8? True\n",
      "Not a valid polygon!\n",
      "Valid multi-polygon2 with connectivity 4? True\n",
      "Valid multi-polygon2 with connectivity 8? False\n"
     ]
    },
    {
     "data": {
      "image/png": "[encoded data removed]",
      "text/plain": [
       "<matplotlib.figure.Figure at 0x7f0186a2a630>"
      ]
     },
     "metadata": {},
     "output_type": "display_data"
    },
    {
     "data": {
      "image/png": "[encoded data removed]",
      "text/plain": [
       "<matplotlib.figure.Figure at 0x7f01868a69e8>"
      ]
     },
     "metadata": {},
     "output_type": "display_data"
    },
    {
     "name": "stdout",
     "output_type": "stream",
     "text": [
      "The area of the multi-polygon1 is 26.0\n",
      "The area of the multi-polygon2 is 56.0\n",
      "The difference of areas for multi-polygon1 with the original multipolygon is -1.5\n",
      "The difference of areas for multi-polygon2 with the original multipolygon is 28.5\n"
     ]
    }
   ],
   "source": [
    "# satsense import\n",
    "from satsense.util.conversions import mask2multipolygon as m2m\n",
    "\n",
    "# parameters\n",
    "t=(1.0, 0.0, 0.0, 0.0, 1.0, 0.0)\n",
    "conn8 = 8\n",
    "conn4 = 4\n",
    "\n",
    "# convert \n",
    "multi1_4 = m2m(saved_mask1, saved_mask1 ,t, conn4);\n",
    "multi1_8 = m2m(saved_mask1, saved_mask1 ,t, conn8);\n",
    "\n",
    "print(\"Valid multi-polygon1 with connectivity 4?\", multi1_4.is_valid)\n",
    "print(\"Valid multi-polygon1 with connectivity 8?\", multi1_8.is_valid)\n",
    "\n",
    "multi2_4 = m2m(saved_mask2, saved_mask2 ,t, conn4);\n",
    "multi2_8 = m2m(saved_mask2, saved_mask2 ,t, conn8);\n",
    "\n",
    "print(\"Valid multi-polygon2 with connectivity 4?\", multi2_4.is_valid)\n",
    "print(\"Valid multi-polygon2 with connectivity 8?\", multi2_8.is_valid)\n",
    "\n",
    "# display the multipolygons\n",
    "_, (ax1, ax2) = pyplot.subplots(1, 2, sharey=True)\n",
    "\n",
    "shmp(multi1_4, ax1, show_verticies, extent, ORANGE, al, 'multipolygon1 \\n connectivity 4')\n",
    "shmp(multi1_8, ax2, show_verticies, extent, ORANGE, al, 'multipolygon1 \\n connectivity 8')\n",
    "\n",
    "pyplot.show()\n",
    "\n",
    "_, (ax1, ax2) = pyplot.subplots(1, 2, sharey=True)\n",
    "\n",
    "shmp(multi2_4, ax1, show_verticies, extent, ORANGE, al, 'multipolygon 2 \\n connectivity 4')\n",
    "shmp(multi2_8, ax2, show_verticies, extent, ORANGE, al, 'multipolygon 2 \\n connectivity 8')\n",
    "\n",
    "pyplot.show()\n",
    "\n",
    "# areas\n",
    "print(\"The area of the multi-polygon1 is\", multi1_4.area)\n",
    "print(\"The area of the multi-polygon2 is\", multi2_4.area)\n",
    "\n",
    "print(\"The difference of areas for multi-polygon1 with the original multipolygon is\", multi1_8.area - area)\n",
    "print(\"The difference of areas for multi-polygon2 with the original multipolygon is\", multi2_8.area - area)\n"
   ]
  },
  {
   "cell_type": "markdown",
   "metadata": {},
   "source": [
    "### Saving multipolygons to a shapefile\n"
   ]
  },
  {
   "cell_type": "code",
   "execution_count": 8,
   "metadata": {},
   "outputs": [
    {
     "name": "stdout",
     "output_type": "stream",
     "text": [
      "Please, check with a GIS weather this file contains a valid polygon! \n",
      " /home/elena/DynaSlum/Data/misc/simple_example_multipolygon.shp\n"
     ]
    }
   ],
   "source": [
    "# satsense import\n",
    "from satsense.util.shapefile import save_multipolygon2shapefile as sm2sh # saving of multipolygon to shapefile\n",
    "\n",
    "# parameters\n",
    "# filename\n",
    "ext = 'shp'\n",
    "fname = 'simple_example_multipolygon' + '.' + ext\n",
    "\n",
    "# full filename\n",
    "shapefname = os.path.join(path, fname)\n",
    "# saving\n",
    "sm2sh(multi1_4, shapefname)\n",
    "\n",
    "print(\"Please, check with a GIS weather this file contains a valid polygon! \\n\", shapefname)"
   ]
  }
 ],
 "metadata": {
  "anaconda-cloud": {},
  "kernelspec": {
   "display_name": "Python [conda env:satelite]",
   "language": "python",
   "name": "conda-env-satelite-py"
  },
  "language_info": {
   "codemirror_mode": {
    "name": "ipython",
    "version": 3
   },
   "file_extension": ".py",
   "mimetype": "text/x-python",
   "name": "python",
   "nbconvert_exporter": "python",
   "pygments_lexer": "ipython3",
   "version": "3.5.3"
  }
 },
 "nbformat": 4,
 "nbformat_minor": 2
}
