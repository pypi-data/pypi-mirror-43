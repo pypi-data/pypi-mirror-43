{
 "cells": [
  {
   "cell_type": "code",
   "execution_count": 1,
   "metadata": {},
   "outputs": [],
   "source": [
    "from guillotina.factory import make_app\n",
    "\n",
    "app = await make_app(settings={\n",
    "    \"databases\": {\n",
    "        \"db\": {\n",
    "            \"storage\": \"DUMMY\"\n",
    "        }\n",
    "    }\n",
    "})"
   ]
  },
  {
   "cell_type": "code",
   "execution_count": 2,
   "metadata": {},
   "outputs": [],
   "source": [
    "root = app.root\n",
    "db = await root.get('db')\n",
    "from guillotina.contentapi import ContentAPI\n",
    "\n",
    "async with ContentAPI(db) as api:\n",
    "    container = await api.create({\"@type\": \"Container\", \"id\": \"container\"})\n",
    "    await api.create({\"@type\": \"Folder\", \"id\": \"foobar\", \"title\": \"Foobar\"}, container)"
   ]
  },
  {
   "cell_type": "code",
   "execution_count": 4,
   "metadata": {},
   "outputs": [
    {
     "name": "stdout",
     "output_type": "stream",
     "text": [
      "Foobar\n"
     ]
    }
   ],
   "source": [
    "async with ContentAPI(db) as api:\n",
    "    folder = await api.get('container/foobar')\n",
    "    print(folder.title)"
   ]
  },
  {
   "cell_type": "code",
   "execution_count": 6,
   "metadata": {},
   "outputs": [],
   "source": [
    "async with ContentAPI(db) as api:\n",
    "    folder = await api.get('container/foobar')\n",
    "    await api.delete(folder)\n"
   ]
  },
  {
   "cell_type": "code",
   "execution_count": null,
   "metadata": {},
   "outputs": [],
   "source": []
  }
 ],
 "metadata": {
  "kernelspec": {
   "display_name": "Python 3",
   "language": "python",
   "name": "python3"
  },
  "language_info": {
   "codemirror_mode": {
    "name": "ipython",
    "version": 3
   },
   "file_extension": ".py",
   "mimetype": "text/x-python",
   "name": "python",
   "nbconvert_exporter": "python",
   "pygments_lexer": "ipython3",
   "version": "3.6.6"
  }
 },
 "nbformat": 4,
 "nbformat_minor": 2
}
