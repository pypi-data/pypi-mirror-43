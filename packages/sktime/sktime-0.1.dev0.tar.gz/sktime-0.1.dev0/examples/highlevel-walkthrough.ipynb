{
 "cells": [
  {
   "cell_type": "markdown",
   "metadata": {},
   "source": [
    "# sktime high-level walkthrough\n",
    "\n",
    "[github lookup](https://github.com/alan-turing-institute/sktime/blob/dev/examples/highlevel-walkthrough.ipynb)"
   ]
  },
  {
   "cell_type": "markdown",
   "metadata": {},
   "source": [
    "### Preliminaries"
   ]
  },
  {
   "cell_type": "code",
   "execution_count": 1,
   "metadata": {},
   "outputs": [
    {
     "name": "stdout",
     "output_type": "stream",
     "text": [
      "0.1.dev\n",
      "/Users/mloning/.conda/envs/sktime/lib/python3.7/site-packages/sktime/__init__.py\n"
     ]
    }
   ],
   "source": [
    "import sktime\n",
    "print(sktime.__version__)\n",
    "print(sktime.__file__)"
   ]
  },
  {
   "cell_type": "code",
   "execution_count": 2,
   "metadata": {},
   "outputs": [],
   "source": [
    "from sktime.highlevel import Task, TSCStrategy\n",
    "from sktime.datasets import load_gunpoint\n",
    "from sktime.classifiers.ensemble import TimeSeriesForestClassifier\n",
    "\n",
    "import pandas as pd\n",
    "from sklearn.metrics import accuracy_score"
   ]
  },
  {
   "cell_type": "markdown",
   "metadata": {},
   "source": [
    "### Load data"
   ]
  },
  {
   "cell_type": "code",
   "execution_count": 3,
   "metadata": {},
   "outputs": [
    {
     "name": "stdout",
     "output_type": "stream",
     "text": [
      "(50, 2) (150, 2)\n"
     ]
    }
   ],
   "source": [
    "train = load_gunpoint(split='TRAIN')\n",
    "test = load_gunpoint(split='TEST')\n",
    "print(train.shape, test.shape)"
   ]
  },
  {
   "cell_type": "code",
   "execution_count": 4,
   "metadata": {},
   "outputs": [
    {
     "data": {
      "text/html": [
       "<div>\n",
       "<style scoped>\n",
       "    .dataframe tbody tr th:only-of-type {\n",
       "        vertical-align: middle;\n",
       "    }\n",
       "\n",
       "    .dataframe tbody tr th {\n",
       "        vertical-align: top;\n",
       "    }\n",
       "\n",
       "    .dataframe thead th {\n",
       "        text-align: right;\n",
       "    }\n",
       "</style>\n",
       "<table border=\"1\" class=\"dataframe\">\n",
       "  <thead>\n",
       "    <tr style=\"text-align: right;\">\n",
       "      <th></th>\n",
       "      <th>dim_0</th>\n",
       "      <th>class_val</th>\n",
       "    </tr>\n",
       "  </thead>\n",
       "  <tbody>\n",
       "    <tr>\n",
       "      <th>0</th>\n",
       "      <td>0     -0.64789\n",
       "1     -0.64199\n",
       "2     -0.63819\n",
       "3...</td>\n",
       "      <td>2</td>\n",
       "    </tr>\n",
       "    <tr>\n",
       "      <th>1</th>\n",
       "      <td>0     -0.64443\n",
       "1     -0.64540\n",
       "2     -0.64706\n",
       "3...</td>\n",
       "      <td>2</td>\n",
       "    </tr>\n",
       "    <tr>\n",
       "      <th>2</th>\n",
       "      <td>0     -0.77835\n",
       "1     -0.77828\n",
       "2     -0.77715\n",
       "3...</td>\n",
       "      <td>1</td>\n",
       "    </tr>\n",
       "    <tr>\n",
       "      <th>3</th>\n",
       "      <td>0     -0.75006\n",
       "1     -0.74810\n",
       "2     -0.74616\n",
       "3...</td>\n",
       "      <td>1</td>\n",
       "    </tr>\n",
       "    <tr>\n",
       "      <th>4</th>\n",
       "      <td>0     -0.59954\n",
       "1     -0.59742\n",
       "2     -0.59927\n",
       "3...</td>\n",
       "      <td>2</td>\n",
       "    </tr>\n",
       "  </tbody>\n",
       "</table>\n",
       "</div>"
      ],
      "text/plain": [
       "                                               dim_0 class_val\n",
       "0  0     -0.64789\n",
       "1     -0.64199\n",
       "2     -0.63819\n",
       "3...         2\n",
       "1  0     -0.64443\n",
       "1     -0.64540\n",
       "2     -0.64706\n",
       "3...         2\n",
       "2  0     -0.77835\n",
       "1     -0.77828\n",
       "2     -0.77715\n",
       "3...         1\n",
       "3  0     -0.75006\n",
       "1     -0.74810\n",
       "2     -0.74616\n",
       "3...         1\n",
       "4  0     -0.59954\n",
       "1     -0.59742\n",
       "2     -0.59927\n",
       "3...         2"
      ]
     },
     "execution_count": 4,
     "metadata": {},
     "output_type": "execute_result"
    }
   ],
   "source": [
    "train.head()"
   ]
  },
  {
   "cell_type": "markdown",
   "metadata": {},
   "source": [
    "### Prediction workflow\n",
    "Specify task"
   ]
  },
  {
   "cell_type": "code",
   "execution_count": 5,
   "metadata": {},
   "outputs": [
    {
     "data": {
      "text/plain": [
       "{'_case': 'TSC',\n",
       " '_target': 'class_val',\n",
       " '_features': Index(['dim_0'], dtype='object'),\n",
       " '_meta': {'nrow': 50,\n",
       "  'ncol': 2,\n",
       "  'target_type': {'class_val': str},\n",
       "  'feature_type': {'dim_0': {pandas.core.series.Series}}}}"
      ]
     },
     "execution_count": 5,
     "metadata": {},
     "output_type": "execute_result"
    }
   ],
   "source": [
    "task = Task(case='TSC', data=train, target='class_val')\n",
    "task.__dict__"
   ]
  },
  {
   "cell_type": "markdown",
   "metadata": {},
   "source": [
    "Specify strategy"
   ]
  },
  {
   "cell_type": "code",
   "execution_count": 6,
   "metadata": {},
   "outputs": [],
   "source": [
    "clf = TimeSeriesForestClassifier()\n",
    "strategy = TSCStrategy(clf)"
   ]
  },
  {
   "cell_type": "markdown",
   "metadata": {},
   "source": [
    "Fit using task and training data"
   ]
  },
  {
   "cell_type": "code",
   "execution_count": 7,
   "metadata": {},
   "outputs": [],
   "source": [
    "strategy.fit(task, train)"
   ]
  },
  {
   "cell_type": "markdown",
   "metadata": {},
   "source": [
    "Predict and evaluate fitted strategy on test data"
   ]
  },
  {
   "cell_type": "code",
   "execution_count": 8,
   "metadata": {},
   "outputs": [],
   "source": [
    "y_pred = strategy.predict(test)"
   ]
  },
  {
   "cell_type": "code",
   "execution_count": 9,
   "metadata": {},
   "outputs": [
    {
     "data": {
      "text/plain": [
       "0.9533333333333334"
      ]
     },
     "execution_count": 9,
     "metadata": {},
     "output_type": "execute_result"
    }
   ],
   "source": [
    "y_test = test['class_val']\n",
    "accuracy_score(y_test, y_pred)"
   ]
  }
 ],
 "metadata": {
  "kernelspec": {
   "display_name": "Python 3",
   "language": "python",
   "name": "python3"
  },
  "language_info": {
   "codemirror_mode": {
    "name": "ipython",
    "version": 3
   },
   "file_extension": ".py",
   "mimetype": "text/x-python",
   "name": "python",
   "nbconvert_exporter": "python",
   "pygments_lexer": "ipython3",
   "version": "3.7.1"
  }
 },
 "nbformat": 4,
 "nbformat_minor": 2
}
