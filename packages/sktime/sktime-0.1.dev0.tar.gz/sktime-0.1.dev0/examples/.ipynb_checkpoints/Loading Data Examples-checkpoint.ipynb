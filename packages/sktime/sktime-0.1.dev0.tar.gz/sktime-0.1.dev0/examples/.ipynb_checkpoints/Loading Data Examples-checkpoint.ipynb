{
 "cells": [
  {
   "cell_type": "markdown",
   "metadata": {},
   "source": [
    "# Loading Data in sktime"
   ]
  },
  {
   "cell_type": "markdown",
   "metadata": {
    "collapsed": true
   },
   "source": [
    "Note: please consider this code a working prototype. Its primary purpose is to support code development, and full testing and additional functionality will be added later. There are many elements that could be refined, and some elements should likely be handled by a Task object (e.g. replace the somewhat hacky way that class labels are set when converting long data to wide!)"
   ]
  },
  {
   "cell_type": "markdown",
   "metadata": {},
   "source": [
    "Data should stored in xpandas.XDataFrame objects; this can be achieved through creating the data structure programmatically or loading data from file. Data can be loaded directly from a bespoke sktime file-format (.ts), or by loading any delimited file into a long-table format and converting into a XDataFrame object using a utility method (or converting long table data created through other means). \n",
    "\n",
    "Below is a brief description of the .ts file format and a recap of how data are stored in XDataFrame objects. Following this, methods are demonstrated to load data into an XDataFrame from a .ts file, and also loading arbitrary data into a long format pandas.DataFrame and converting into an XPandas.XDataFrame. \n",
    "\n",
    "The examples throughout rely on the utility methods that have been implemented in the utilities.load_data.py file"
   ]
  },
  {
   "cell_type": "code",
   "execution_count": 1,
   "metadata": {},
   "outputs": [],
   "source": [
    "from utilities.load_data import load_from_web_to_xdataframe"
   ]
  },
  {
   "cell_type": "markdown",
   "metadata": {},
   "source": [
    "# Representing data with .ts files\n",
    "\n",
    "The most typical use case is to load data from a locally stored .ts file. The .ts file format has been created for representing problems in a standard format for use with sktime. These files include two main parts:  \n",
    "* header information\n",
    "* data \n",
    "\n",
    "The header information is used to facilitate simple representation of the data through including metadata about the structure of the problem. The header contains the following: \n",
    "\n",
    "    @problemName <problem name>\n",
    "    @timeStamps <true/false> \n",
    "    @univariate <true/false>\n",
    "    @classLabel <true/false> <space delimted list of possible class values>\n",
    "    @data\n",
    "    \n",
    "The data for the problem should begin after the @data tag. In the simplest case where @timestamps is false, values for a series are expressed in a comma-separated list and the index of each value is relative to its position in the list (0, 1, ..., m). A _case_ may contain 1 to many dimensions, where cases are line-delimited and dimensions within a case are colon (:) delimited. For example:\n",
    "\n",
    "    2,3,2,4:4,3,2,2\n",
    "    13,12,32,12:22,23,12,32\n",
    "    4,4,5,4:3,2,3,2\n",
    "\n",
    "This example data has 3 _cases_, where each case has 2 _dimensions_ with 4 observations per dimension. Missing readings can be specified using ?, or for sparse datasets, readings can be specified by setting @timestamps to true and representing the data  with tuples in the form of (timestamp, value). For example, the first case in the example above could be specified in this representation as: \n",
    "\n",
    "    (0,2),(1,3)(2,2)(3,4):(0,4),(1,3),(2,2),(3,2)\n",
    "\n",
    "Equivalently, \n",
    "\n",
    "    2,5,?,?,?,?,?,5,?,?,?,?,4 \n",
    "\n",
    "could be represnted with timestamps as:\n",
    "\n",
    "    (0,2),(0,5),(7,5),(12,4)\n",
    "    \n",
    "For classification problems, the class label for a case should be specified in the last dimension and @classLabel should be in the header information to specify the set of possible class values. For example, if a case consists of a single dimension and has a class value of 1 it would be specified as:\n",
    "\n",
    "     1,4,23,34:1\n",
    "\n",
    "# Storing data in XPandas.XDataFrame\n",
    "\n",
    "A number of methods are provided in utilities.load_data to load data into suitable data structures. The core data structure for storing datasets in sktime is an xpandas.XDataFrame, where rows of the XDataFrame correspond to cases and columns correspond to dimensions of the problem. A column is stored as an xpandas.XSeries, where individual entries are stored as a pandas.Series to allow for sparse/non-integer timestamps (such as dates). Further, if the loaded problem is a classification problem, the standard loading functionality within sktime will returen the class values in a separate index-aligned XSeries object. For example, for n cases and c dimensions:\n",
    "\n",
    "    XDataFrame:                                            \n",
    "    index |   dim_0   |   dim_1   |    ...    |  dim_c-1\n",
    "       0  | pd.Series | pd.Series | pd.Series | pd.Series\n",
    "       1  | pd.Series | pd.Series | pd.Series | pd.Series\n",
    "      ... |    ...    |    ...    |    ...    |    ...   \n",
    "       n  | pd.Series | pd.Series | pd.Series | pd.Series\n",
    "\n",
    "And if the data is a classification problem, a separate (index-aligned) XSeries object will be returned with the class labels:\n",
    "\n",
    "    XSeries:\n",
    "    index | class_val \n",
    "      0   |   int    \n",
    "      1   |   int \n",
    "     ...  |   ...\n",
    "      n   |   int \n"
   ]
  },
  {
   "cell_type": "markdown",
   "metadata": {},
   "source": [
    "## 1. Load from .ts file to xpandas.XDataFrame\n",
    "\n",
    "A dataset can be loaded from a .ts file using the following method in utilities.load_data.py:\n",
    "    \n",
    "    load_from_tsfile_to_xdataframe(file_path, file_name, replace_missing_vals_with='NaN')\n",
    "    \n",
    "For convenience, a version of the method has been specified to load from a remote .ts file stored on timeseriesclassification.com. *Note: this is not a data API*. This can be explored at a later date, but this remote data loading is for convenience while developing. \n",
    "\n",
    "This can be demonstrated using the Gunpoint problem and the following method, which downloads/uses a cached version of the file and then calls the method above to load a .ts file."
   ]
  },
  {
   "cell_type": "code",
   "execution_count": 2,
   "metadata": {},
   "outputs": [],
   "source": [
    "# path where to download/look for datasets. If not present, they will be pulled from the web. If files\n",
    "# are present then they will simply be loaded\n",
    "cache_path = \"C:/temp/sktime_temp_data/\"\n",
    "dataset_name = \"GunPoint\"\n",
    "\n",
    "# if is_train_file=True, the method looks for the filename suffix \"_TRAIN.ts\"\n",
    "# if is_test_file=True, the method looks for the filename suffix \"_TEST.ts\"\n",
    "# if neither of the above are true, it looks for the filename suffix \".ts\" - i.e. no a default train or test split\n",
    "train_x, train_y = load_from_web_to_xdataframe(dataset_name, is_train_file=True, cache_path=cache_path) \n",
    "test_x, test_y = load_from_web_to_xdataframe(dataset_name, is_test_file=True, cache_path=cache_path)"
   ]
  },
  {
   "cell_type": "markdown",
   "metadata": {},
   "source": [
    "Train and test partitions of the GunPoint problem have been loaded into xpandas.XDataFrame objects and the associated class values for each have been read into xpandas.XSeries objects. As an example, below are the first 5 rows from the train_x (XDataFrame) and train_y (XSeries) objects:"
   ]
  },
  {
   "cell_type": "code",
   "execution_count": 3,
   "metadata": {},
   "outputs": [
    {
     "data": {
      "text/html": [
       "<div>\n",
       "<style scoped>\n",
       "    .dataframe tbody tr th:only-of-type {\n",
       "        vertical-align: middle;\n",
       "    }\n",
       "\n",
       "    .dataframe tbody tr th {\n",
       "        vertical-align: top;\n",
       "    }\n",
       "\n",
       "    .dataframe thead th {\n",
       "        text-align: right;\n",
       "    }\n",
       "</style>\n",
       "<table border=\"1\" class=\"dataframe\">\n",
       "  <thead>\n",
       "    <tr style=\"text-align: right;\">\n",
       "      <th></th>\n",
       "      <th>dim_0</th>\n",
       "    </tr>\n",
       "  </thead>\n",
       "  <tbody>\n",
       "    <tr>\n",
       "      <th>0</th>\n",
       "      <td>0     -0.647885\n",
       "1     -0.641992\n",
       "2     -0.63818...</td>\n",
       "    </tr>\n",
       "    <tr>\n",
       "      <th>1</th>\n",
       "      <td>0     -0.644427\n",
       "1     -0.645401\n",
       "2     -0.64705...</td>\n",
       "    </tr>\n",
       "    <tr>\n",
       "      <th>2</th>\n",
       "      <td>0     -0.778353\n",
       "1     -0.778279\n",
       "2     -0.77715...</td>\n",
       "    </tr>\n",
       "    <tr>\n",
       "      <th>3</th>\n",
       "      <td>0     -0.750060\n",
       "1     -0.748103\n",
       "2     -0.74616...</td>\n",
       "    </tr>\n",
       "    <tr>\n",
       "      <th>4</th>\n",
       "      <td>0     -0.599539\n",
       "1     -0.597422\n",
       "2     -0.59926...</td>\n",
       "    </tr>\n",
       "  </tbody>\n",
       "</table>\n",
       "</div>"
      ],
      "text/plain": [
       "                                               dim_0\n",
       "0  0     -0.647885\n",
       "1     -0.641992\n",
       "2     -0.63818...\n",
       "1  0     -0.644427\n",
       "1     -0.645401\n",
       "2     -0.64705...\n",
       "2  0     -0.778353\n",
       "1     -0.778279\n",
       "2     -0.77715...\n",
       "3  0     -0.750060\n",
       "1     -0.748103\n",
       "2     -0.74616...\n",
       "4  0     -0.599539\n",
       "1     -0.597422\n",
       "2     -0.59926..."
      ]
     },
     "execution_count": 3,
     "metadata": {},
     "output_type": "execute_result"
    }
   ],
   "source": [
    "train_x.head()"
   ]
  },
  {
   "cell_type": "code",
   "execution_count": 4,
   "metadata": {},
   "outputs": [
    {
     "data": {
      "text/plain": [
       "0    2\n",
       "1    2\n",
       "2    1\n",
       "3    1\n",
       "4    2\n",
       "dtype: object\n",
       "data_type: <class 'str'>"
      ]
     },
     "execution_count": 4,
     "metadata": {},
     "output_type": "execute_result"
    }
   ],
   "source": [
    "train_y.head()"
   ]
  },
  {
   "cell_type": "markdown",
   "metadata": {},
   "source": [
    "## 2 Load from a delimited file into a long format table\n",
    "\n",
    "As mentioned, it is also possible to create the same train_x and train_y structures from an arbitrary delimited file. The only requirements are that the values within a time series are delimited by a specified character (default is ','), the dimensions of a problem are delimited by another character (default is ':'), and cases are line separated. \n",
    "\n",
    "This approach makes some assumptions about the data (and may need to be tidied up later). For example, the user must specify in the method header whether the data contains a class value (i.e. if it is a TSC problem), and if so, it must be represented as a single value in the last dimension of a problem. It may make more sense to delegate this behaviour to a Task object in the future but this behaviour will suffice for initial development.\n",
    "\n",
    "The utilities.load_data file contains a load_from_file_to_long_format method. For simplicity, the example below uses the same input .ts file that was previously cached. However, this method does not use any of the header data and relies on the reading and dimension delimiters being set, so can function on any delimited data file."
   ]
  },
  {
   "cell_type": "code",
   "execution_count": 5,
   "metadata": {},
   "outputs": [
    {
     "data": {
      "text/html": [
       "<div>\n",
       "<style scoped>\n",
       "    .dataframe tbody tr th:only-of-type {\n",
       "        vertical-align: middle;\n",
       "    }\n",
       "\n",
       "    .dataframe tbody tr th {\n",
       "        vertical-align: top;\n",
       "    }\n",
       "\n",
       "    .dataframe thead th {\n",
       "        text-align: right;\n",
       "    }\n",
       "</style>\n",
       "<table border=\"1\" class=\"dataframe\">\n",
       "  <thead>\n",
       "    <tr style=\"text-align: right;\">\n",
       "      <th></th>\n",
       "      <th>case_id</th>\n",
       "      <th>dimension_id</th>\n",
       "      <th>reading_id</th>\n",
       "      <th>value</th>\n",
       "    </tr>\n",
       "  </thead>\n",
       "  <tbody>\n",
       "    <tr>\n",
       "      <th>0</th>\n",
       "      <td>0</td>\n",
       "      <td>0</td>\n",
       "      <td>0</td>\n",
       "      <td>-0.647885</td>\n",
       "    </tr>\n",
       "    <tr>\n",
       "      <th>1</th>\n",
       "      <td>0</td>\n",
       "      <td>0</td>\n",
       "      <td>1</td>\n",
       "      <td>-0.641992</td>\n",
       "    </tr>\n",
       "    <tr>\n",
       "      <th>2</th>\n",
       "      <td>0</td>\n",
       "      <td>0</td>\n",
       "      <td>2</td>\n",
       "      <td>-0.638186</td>\n",
       "    </tr>\n",
       "    <tr>\n",
       "      <th>3</th>\n",
       "      <td>0</td>\n",
       "      <td>0</td>\n",
       "      <td>3</td>\n",
       "      <td>-0.638259</td>\n",
       "    </tr>\n",
       "    <tr>\n",
       "      <th>4</th>\n",
       "      <td>0</td>\n",
       "      <td>0</td>\n",
       "      <td>4</td>\n",
       "      <td>-0.638345</td>\n",
       "    </tr>\n",
       "    <tr>\n",
       "      <th>5</th>\n",
       "      <td>0</td>\n",
       "      <td>0</td>\n",
       "      <td>5</td>\n",
       "      <td>-0.638697</td>\n",
       "    </tr>\n",
       "    <tr>\n",
       "      <th>6</th>\n",
       "      <td>0</td>\n",
       "      <td>0</td>\n",
       "      <td>6</td>\n",
       "      <td>-0.643049</td>\n",
       "    </tr>\n",
       "    <tr>\n",
       "      <th>7</th>\n",
       "      <td>0</td>\n",
       "      <td>0</td>\n",
       "      <td>7</td>\n",
       "      <td>-0.643768</td>\n",
       "    </tr>\n",
       "    <tr>\n",
       "      <th>8</th>\n",
       "      <td>0</td>\n",
       "      <td>0</td>\n",
       "      <td>8</td>\n",
       "      <td>-0.64505</td>\n",
       "    </tr>\n",
       "    <tr>\n",
       "      <th>9</th>\n",
       "      <td>0</td>\n",
       "      <td>0</td>\n",
       "      <td>9</td>\n",
       "      <td>-0.647118</td>\n",
       "    </tr>\n",
       "  </tbody>\n",
       "</table>\n",
       "</div>"
      ],
      "text/plain": [
       "   case_id dimension_id reading_id     value\n",
       "0        0            0          0 -0.647885\n",
       "1        0            0          1 -0.641992\n",
       "2        0            0          2 -0.638186\n",
       "3        0            0          3 -0.638259\n",
       "4        0            0          4 -0.638345\n",
       "5        0            0          5 -0.638697\n",
       "6        0            0          6 -0.643049\n",
       "7        0            0          7 -0.643768\n",
       "8        0            0          8  -0.64505\n",
       "9        0            0          9 -0.647118"
      ]
     },
     "execution_count": 5,
     "metadata": {},
     "output_type": "execute_result"
    }
   ],
   "source": [
    "from utilities.load_data import load_from_file_to_long_format\n",
    "\n",
    "file_name_and_path = cache_path+dataset_name+\"/\"+dataset_name+\"_TRAIN.ts\"\n",
    "\n",
    "long_table_example = load_from_file_to_long_format(file_name_and_path, reading_delimiter=\",\", dimension_delimiter=\":\", last_dim_is_class_val=True)\n",
    "\n",
    "long_table_example[0:10]"
   ]
  },
  {
   "cell_type": "markdown",
   "metadata": {},
   "source": [
    "## 3 Converting long-format data into wide-format data \n",
    "### (i.e. pandas.DataFrame to xpandas.XDataFrame)\n",
    "\n",
    "The .ts file has now been read into long format. This is a pandas.DataFrame with columns for [case_id, dimension_id, reading_id, value]. This format can be converted into an xpandas.XDataFrame using the long_format_to_wide_format method in utilities.load_data (note: it should be possible to convert a pandas.DataFrame created through other means with this method too, providing that the expected column names are included).\n",
    "\n",
    "To facilitate loading classification problems into an XDataFrame and XSeries (as above), an argument is passed to the method header for class_dimension_name. By default, if last_dim_is_class_val=True in load_from_file_to_long_format, all class values in the long table will belong to dimension \"c\". Hence, it is set to \"c\" below, but the default value is None to facilitate loading any kind of data. Again, this would likely be handled more effectively by a Task object"
   ]
  },
  {
   "cell_type": "code",
   "execution_count": 6,
   "metadata": {},
   "outputs": [],
   "source": [
    "from utilities.load_data import long_format_to_wide_format\n",
    "\n",
    "wide_x, wide_y = long_format_to_wide_format(long_table_example, class_dimension_name=\"c\")"
   ]
  },
  {
   "cell_type": "code",
   "execution_count": 7,
   "metadata": {},
   "outputs": [
    {
     "data": {
      "text/html": [
       "<div>\n",
       "<style scoped>\n",
       "    .dataframe tbody tr th:only-of-type {\n",
       "        vertical-align: middle;\n",
       "    }\n",
       "\n",
       "    .dataframe tbody tr th {\n",
       "        vertical-align: top;\n",
       "    }\n",
       "\n",
       "    .dataframe thead th {\n",
       "        text-align: right;\n",
       "    }\n",
       "</style>\n",
       "<table border=\"1\" class=\"dataframe\">\n",
       "  <thead>\n",
       "    <tr style=\"text-align: right;\">\n",
       "      <th></th>\n",
       "      <th>dim_0</th>\n",
       "    </tr>\n",
       "  </thead>\n",
       "  <tbody>\n",
       "    <tr>\n",
       "      <th>0</th>\n",
       "      <td>0     -0.647885\n",
       "1     -0.641992\n",
       "2     -0.63818...</td>\n",
       "    </tr>\n",
       "    <tr>\n",
       "      <th>1</th>\n",
       "      <td>0     -0.644427\n",
       "1     -0.645401\n",
       "2     -0.64705...</td>\n",
       "    </tr>\n",
       "    <tr>\n",
       "      <th>2</th>\n",
       "      <td>0     -0.778353\n",
       "1     -0.778279\n",
       "2     -0.77715...</td>\n",
       "    </tr>\n",
       "    <tr>\n",
       "      <th>3</th>\n",
       "      <td>0     -0.750060\n",
       "1     -0.748103\n",
       "2     -0.74616...</td>\n",
       "    </tr>\n",
       "    <tr>\n",
       "      <th>4</th>\n",
       "      <td>0     -0.599539\n",
       "1     -0.597422\n",
       "2     -0.59926...</td>\n",
       "    </tr>\n",
       "  </tbody>\n",
       "</table>\n",
       "</div>"
      ],
      "text/plain": [
       "                                               dim_0\n",
       "0  0     -0.647885\n",
       "1     -0.641992\n",
       "2     -0.63818...\n",
       "1  0     -0.644427\n",
       "1     -0.645401\n",
       "2     -0.64705...\n",
       "2  0     -0.778353\n",
       "1     -0.778279\n",
       "2     -0.77715...\n",
       "3  0     -0.750060\n",
       "1     -0.748103\n",
       "2     -0.74616...\n",
       "4  0     -0.599539\n",
       "1     -0.597422\n",
       "2     -0.59926..."
      ]
     },
     "execution_count": 7,
     "metadata": {},
     "output_type": "execute_result"
    }
   ],
   "source": [
    "wide_x.head()"
   ]
  },
  {
   "cell_type": "code",
   "execution_count": 8,
   "metadata": {},
   "outputs": [
    {
     "data": {
      "text/plain": [
       "0    2\n",
       "1    2\n",
       "2    1\n",
       "3    1\n",
       "4    2\n",
       "dtype: object\n",
       "data_type: <class 'str'>"
      ]
     },
     "execution_count": 8,
     "metadata": {},
     "output_type": "execute_result"
    }
   ],
   "source": [
    "wide_y.head()"
   ]
  },
  {
   "cell_type": "markdown",
   "metadata": {},
   "source": [
    "(train_x,train_y) and (wide_x,wide_y) should be equivalent, demonstrating the capability to either load data directly from a .ts file, or convert data in an appropriately formatted long-table format (a pandas.DataFrame with correct header information). Once in the correct form, a model (e.g. classifier) can be built using fit(train_x,train_y) and predict(test_x), where train_x and test_x are xpandas.XDataFrame objects and train_y is a pandas.Series object.\n",
    "\n",
    "Below is a _very_ hacky way to demonstrate the equivalence of train_x and wide_x, and train_y and wide_y, through comparing the .to_string() of the appropriate data structures"
   ]
  },
  {
   "cell_type": "code",
   "execution_count": 9,
   "metadata": {},
   "outputs": [
    {
     "data": {
      "text/plain": [
       "True"
      ]
     },
     "execution_count": 9,
     "metadata": {},
     "output_type": "execute_result"
    }
   ],
   "source": [
    "train_x.to_string()==wide_x.to_string()"
   ]
  },
  {
   "cell_type": "code",
   "execution_count": 10,
   "metadata": {},
   "outputs": [
    {
     "data": {
      "text/plain": [
       "True"
      ]
     },
     "execution_count": 10,
     "metadata": {},
     "output_type": "execute_result"
    }
   ],
   "source": [
    "train_y.to_string()==wide_y.to_string()"
   ]
  },
  {
   "cell_type": "markdown",
   "metadata": {},
   "source": [
    "## 4. Testing with various dataset use cases\n",
    "\n",
    "### 4.1 Univariate, equal length, no missing\n",
    "Gunpoint (example from above)"
   ]
  },
  {
   "cell_type": "code",
   "execution_count": 11,
   "metadata": {},
   "outputs": [
    {
     "data": {
      "text/html": [
       "<div>\n",
       "<style scoped>\n",
       "    .dataframe tbody tr th:only-of-type {\n",
       "        vertical-align: middle;\n",
       "    }\n",
       "\n",
       "    .dataframe tbody tr th {\n",
       "        vertical-align: top;\n",
       "    }\n",
       "\n",
       "    .dataframe thead th {\n",
       "        text-align: right;\n",
       "    }\n",
       "</style>\n",
       "<table border=\"1\" class=\"dataframe\">\n",
       "  <thead>\n",
       "    <tr style=\"text-align: right;\">\n",
       "      <th></th>\n",
       "      <th>dim_0</th>\n",
       "    </tr>\n",
       "  </thead>\n",
       "  <tbody>\n",
       "    <tr>\n",
       "      <th>0</th>\n",
       "      <td>0     -0.647885\n",
       "1     -0.641992\n",
       "2     -0.63818...</td>\n",
       "    </tr>\n",
       "    <tr>\n",
       "      <th>1</th>\n",
       "      <td>0     -0.644427\n",
       "1     -0.645401\n",
       "2     -0.64705...</td>\n",
       "    </tr>\n",
       "    <tr>\n",
       "      <th>2</th>\n",
       "      <td>0     -0.778353\n",
       "1     -0.778279\n",
       "2     -0.77715...</td>\n",
       "    </tr>\n",
       "    <tr>\n",
       "      <th>3</th>\n",
       "      <td>0     -0.750060\n",
       "1     -0.748103\n",
       "2     -0.74616...</td>\n",
       "    </tr>\n",
       "    <tr>\n",
       "      <th>4</th>\n",
       "      <td>0     -0.599539\n",
       "1     -0.597422\n",
       "2     -0.59926...</td>\n",
       "    </tr>\n",
       "  </tbody>\n",
       "</table>\n",
       "</div>"
      ],
      "text/plain": [
       "                                               dim_0\n",
       "0  0     -0.647885\n",
       "1     -0.641992\n",
       "2     -0.63818...\n",
       "1  0     -0.644427\n",
       "1     -0.645401\n",
       "2     -0.64705...\n",
       "2  0     -0.778353\n",
       "1     -0.778279\n",
       "2     -0.77715...\n",
       "3  0     -0.750060\n",
       "1     -0.748103\n",
       "2     -0.74616...\n",
       "4  0     -0.599539\n",
       "1     -0.597422\n",
       "2     -0.59926..."
      ]
     },
     "execution_count": 11,
     "metadata": {},
     "output_type": "execute_result"
    }
   ],
   "source": [
    "dataset_name = \"GunPoint\"\n",
    "train_x, train_y = load_from_web_to_xdataframe(dataset_name, is_train_file=True, cache_path=cache_path) \n",
    "test_x, test_y = load_from_web_to_xdataframe(dataset_name, is_test_file=True, cache_path=cache_path)\n",
    "\n",
    "train_x.head()"
   ]
  },
  {
   "cell_type": "code",
   "execution_count": 12,
   "metadata": {},
   "outputs": [
    {
     "name": "stdout",
     "output_type": "stream",
     "text": [
      "length of series 0: 150\n",
      "length of series 10: 150\n"
     ]
    }
   ],
   "source": [
    "print(\"length of series 0: \"+str(len(train_x.dim_0.iloc[0])))\n",
    "print(\"length of series 10: \"+str(len(train_x.dim_0.iloc[10])))"
   ]
  },
  {
   "cell_type": "code",
   "execution_count": 13,
   "metadata": {},
   "outputs": [
    {
     "data": {
      "text/plain": [
       "'Gunpoint_TRAIN'"
      ]
     },
     "execution_count": 13,
     "metadata": {},
     "output_type": "execute_result"
    }
   ],
   "source": [
    "from collections import namedtuple\n",
    "TSCDataset = namedtuple(\"TSCDataset\", \"dataset_name data_x data\")\n",
    "\n",
    "blob = TSCDataset(\"Gunpoint_TRAIN\", train_x, train_y)\n",
    "blob.dataset_name"
   ]
  },
  {
   "cell_type": "markdown",
   "metadata": {},
   "source": [
    "### 4.2. Univariate, unequal length, no missing\n",
    "PLAID"
   ]
  },
  {
   "cell_type": "code",
   "execution_count": 14,
   "metadata": {},
   "outputs": [],
   "source": [
    "dataset_name = \"PLAID\"\n",
    "train_x, train_y = load_from_web_to_xdataframe(dataset_name, is_train_file=True, cache_path=cache_path) \n",
    "test_x, test_y = load_from_web_to_xdataframe(dataset_name, is_test_file=True, cache_path=cache_path)"
   ]
  },
  {
   "cell_type": "code",
   "execution_count": 15,
   "metadata": {},
   "outputs": [
    {
     "name": "stdout",
     "output_type": "stream",
     "text": [
      "length of series 0: 500\n",
      "length of series 10: 300\n"
     ]
    }
   ],
   "source": [
    "print(\"length of series 0: \"+str(len(train_x.dim_0.iloc[0])))\n",
    "print(\"length of series 10: \"+str(len(train_x.dim_0.iloc[10])))"
   ]
  },
  {
   "cell_type": "markdown",
   "metadata": {},
   "source": [
    "### 4.3. Univariate, unequal length, with missing vals\n",
    "DodgerLoopDay"
   ]
  },
  {
   "cell_type": "code",
   "execution_count": 16,
   "metadata": {},
   "outputs": [],
   "source": [
    "dataset_name = \"DodgerLoopDay\"\n",
    "train_x, train_y = load_from_web_to_xdataframe(dataset_name, is_train_file=True, cache_path=cache_path) \n",
    "test_x, test_y = load_from_web_to_xdataframe(dataset_name, is_test_file=True, cache_path=cache_path)"
   ]
  },
  {
   "cell_type": "code",
   "execution_count": 17,
   "metadata": {},
   "outputs": [
    {
     "name": "stdout",
     "output_type": "stream",
     "text": [
      "length of series 0: 288\n",
      "length of series 16: 288\n"
     ]
    },
    {
     "data": {
      "text/plain": [
       "145    18.0\n",
       "146    21.0\n",
       "147    22.0\n",
       "148    29.0\n",
       "149    30.0\n",
       "150    27.0\n",
       "151     NaN\n",
       "152     NaN\n",
       "153     NaN\n",
       "154     NaN\n",
       "155     NaN\n",
       "156     NaN\n",
       "157     NaN\n",
       "158     NaN\n",
       "159     NaN\n",
       "160     NaN\n",
       "161     NaN\n",
       "162     NaN\n",
       "163     NaN\n",
       "164     NaN\n",
       "dtype: float64"
      ]
     },
     "execution_count": 17,
     "metadata": {},
     "output_type": "execute_result"
    }
   ],
   "source": [
    "# series should be of equal length because NaN have been insterted in place of unknown values (as this may have a\n",
    "# meaningful difference to values that are completely omitted from the original input). Below demonstrates a subsequence\n",
    "# of series 16 (with missing vals) that has the same length as series 0 (without missing vals)\n",
    "\n",
    "print(\"length of series 0: \"+str(len(train_x.dim_0.iloc[0])))\n",
    "print(\"length of series 16: \"+str(len(train_x.dim_0.iloc[16])))\n",
    "\n",
    "train_x.dim_0.iloc[16][145:165]"
   ]
  },
  {
   "cell_type": "markdown",
   "metadata": {},
   "source": [
    "### 4.4. Multivariate, equal length, no missing\n",
    "BasicMotions"
   ]
  },
  {
   "cell_type": "code",
   "execution_count": 18,
   "metadata": {},
   "outputs": [],
   "source": [
    "dataset_name = \"BasicMotions\"\n",
    "train_x, train_y = load_from_web_to_xdataframe(dataset_name, is_train_file=True, cache_path=cache_path) \n",
    "test_x, test_y = load_from_web_to_xdataframe(dataset_name, is_test_file=True, cache_path=cache_path)"
   ]
  },
  {
   "cell_type": "code",
   "execution_count": 19,
   "metadata": {},
   "outputs": [
    {
     "data": {
      "text/plain": [
       "Index(['dim_0', 'dim_1', 'dim_2', 'dim_3', 'dim_4', 'dim_5'], dtype='object')"
      ]
     },
     "execution_count": 19,
     "metadata": {},
     "output_type": "execute_result"
    }
   ],
   "source": [
    "# BasicMotions is multivariate and the XDataFrame has multiple columns to reflect this:\n",
    "train_x.keys()"
   ]
  },
  {
   "cell_type": "code",
   "execution_count": 20,
   "metadata": {
    "scrolled": true
   },
   "outputs": [
    {
     "name": "stdout",
     "output_type": "stream",
     "text": [
      "length of series 0: 100\n",
      "length of series 10: 100\n"
     ]
    },
    {
     "data": {
      "text/plain": [
       "dim_0    0     0.079106\n",
       "1     0.079106\n",
       "2    -0.903497\n",
       "3...\n",
       "dim_1    0     0.394032\n",
       "1     0.394032\n",
       "2    -3.666397\n",
       "3...\n",
       "dim_2    0     0.551444\n",
       "1     0.551444\n",
       "2    -0.282844\n",
       "3...\n",
       "dim_3    0     0.351565\n",
       "1     0.351565\n",
       "2    -0.095881\n",
       "3...\n",
       "dim_4    0     0.023970\n",
       "1     0.023970\n",
       "2    -0.319605\n",
       "3...\n",
       "dim_5    0     0.633883\n",
       "1     0.633883\n",
       "2     0.972131\n",
       "3...\n",
       "Name: 0, dtype: object\n",
       "data_type: <class 'pandas.core.series.Series'>"
      ]
     },
     "execution_count": 20,
     "metadata": {},
     "output_type": "execute_result"
    }
   ],
   "source": [
    "print(\"length of series 0: \"+str(len(train_x.dim_0.iloc[0])))\n",
    "print(\"length of series 10: \"+str(len(train_x.dim_0.iloc[10])))\n",
    "\n",
    "train_x.iloc[0]"
   ]
  },
  {
   "cell_type": "markdown",
   "metadata": {},
   "source": [
    "### 4.5. Multivariate, unequal length, no missing\n",
    "JapaneseVowels \n",
    "(variable length between cases, but not within cases - this should be supported by the code in any case)"
   ]
  },
  {
   "cell_type": "code",
   "execution_count": 21,
   "metadata": {},
   "outputs": [],
   "source": [
    "dataset_name = \"JapaneseVowels\"\n",
    "train_x, train_y = load_from_web_to_xdataframe(dataset_name, is_train_file=True, cache_path=cache_path) \n",
    "test_x, test_y = load_from_web_to_xdataframe(dataset_name, is_test_file=True, cache_path=cache_path)"
   ]
  },
  {
   "cell_type": "code",
   "execution_count": 22,
   "metadata": {},
   "outputs": [
    {
     "data": {
      "text/plain": [
       "Index(['dim_0', 'dim_1', 'dim_2', 'dim_3', 'dim_4', 'dim_5', 'dim_6', 'dim_7',\n",
       "       'dim_8', 'dim_9', 'dim_10', 'dim_11'],\n",
       "      dtype='object')"
      ]
     },
     "execution_count": 22,
     "metadata": {},
     "output_type": "execute_result"
    }
   ],
   "source": [
    "# BasicMotions is multivariate and the XDataFrame has multiple columns to reflect this:\n",
    "train_x.keys()"
   ]
  },
  {
   "cell_type": "code",
   "execution_count": 23,
   "metadata": {},
   "outputs": [
    {
     "name": "stdout",
     "output_type": "stream",
     "text": [
      "length of series 0, dimension 0: 20\n",
      "length of series 0, dimension 9: 20\n",
      "length of series 7, dimension 0: 18\n",
      "length of series 7, dimension 9: 18\n"
     ]
    }
   ],
   "source": [
    "print(\"length of series 0, dimension 0: \"+str(len(train_x.dim_0[0])))\n",
    "print(\"length of series 0, dimension 9: \"+str(len(train_x.dim_9[0])))\n",
    "print(\"length of series 7, dimension 0: \"+str(len(train_x.dim_0[7])))\n",
    "print(\"length of series 7, dimension 9: \"+str(len(train_x.dim_9[7])))"
   ]
  }
 ],
 "metadata": {
  "kernelspec": {
   "display_name": "Python 3",
   "language": "python",
   "name": "python3"
  },
  "language_info": {
   "codemirror_mode": {
    "name": "ipython",
    "version": 3
   },
   "file_extension": ".py",
   "mimetype": "text/x-python",
   "name": "python",
   "nbconvert_exporter": "python",
   "pygments_lexer": "ipython3",
   "version": "3.7.1"
  }
 },
 "nbformat": 4,
 "nbformat_minor": 1
}
