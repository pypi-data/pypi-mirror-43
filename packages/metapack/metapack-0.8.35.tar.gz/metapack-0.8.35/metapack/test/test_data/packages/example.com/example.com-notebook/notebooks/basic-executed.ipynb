{
 "cells": [
  {
   "cell_type": "code",
   "execution_count": 1,
   "metadata": {
    "": true,
    "prolog": true
   },
   "outputs": [],
   "source": [
    "#2019-03-20 14:55:09.617411\n",
    "%load_ext metapack.jupyter.magic"
   ]
  },
  {
   "cell_type": "code",
   "execution_count": 2,
   "metadata": {
    "": true,
    "prolog": true
   },
   "outputs": [],
   "source": [
    "CACHE_DIR='/Users/eric/proj/virt-proj/metapack/metapack-dev/metapack/.tox/cache/'\n",
    "RESOURCE_NAME='basic_a'\n",
    "RESOLVED_URL='file:///Users/eric/proj/virt-proj/metapack/metapack-dev/metapack/metapack/test/test_data/packages/example.com/example.com-notebook/notebooks/basic.ipynb#dfa'\n",
    "WORKING_DIR='/Users/eric/proj/virt-proj/metapack/metapack-dev/metapack/metapack/test/test_data/packages/example.com/example.com-notebook'\n",
    "METATAB_DOC='metapack+file:///Users/eric/proj/virt-proj/metapack/metapack-dev/metapack/metapack/test/test_data/packages/example.com/example.com-notebook/metadata.csv'\n",
    "METATAB_WORKING_DIR='/Users/eric/proj/virt-proj/metapack/metapack-dev/metapack/metapack/test/test_data/packages/example.com/example.com-notebook'\n",
    "METATAB_PACKAGE='metapack+file:///Users/eric/proj/virt-proj/metapack/metapack-dev/metapack/metapack/test/test_data/packages/example.com/example.com-notebook/'\n",
    "name='basic_a'\n",
    "description='A Basic notebook'\n",
    "url='notebooks/basic.ipynb#dfa'"
   ]
  },
  {
   "cell_type": "code",
   "execution_count": 3,
   "metadata": {
    "": true,
    "prolog": true
   },
   "outputs": [],
   "source": [
    "METAPACK_BUILDING=True"
   ]
  },
  {
   "cell_type": "code",
   "execution_count": 4,
   "metadata": {},
   "outputs": [],
   "source": [
    "import pandas as pd\n",
    "import numpy as np\n",
    "import random"
   ]
  },
  {
   "cell_type": "code",
   "execution_count": 5,
   "metadata": {},
   "outputs": [],
   "source": [
    "N = 2500\n",
    "\n",
    "dfa = pd.DataFrame({\n",
    "        'int1': range(0,N),\n",
    "        'float2': np.linspace(0,1,N),\n",
    "        'str3': np.random.choice( list('abcdefghij'), N) \n",
    "        \n",
    "    })"
   ]
  },
  {
   "cell_type": "code",
   "execution_count": 6,
   "metadata": {},
   "outputs": [],
   "source": [
    "dfb = dfa.copy()*2"
   ]
  },
  {
   "cell_type": "code",
   "execution_count": null,
   "metadata": {},
   "outputs": [],
   "source": []
  },
  {
   "cell_type": "code",
   "execution_count": 7,
   "metadata": {
    "epilog": true,
    "mt_dataframes": true
   },
   "outputs": [
    {
     "name": "stdout",
     "output_type": "stream",
     "text": [
      "{\n",
      "    \"df_name\": \"dfa\",\n",
      "    \"path\": \"/Users/eric/proj/virt-proj/metapack/metapack-dev/metapack/.tox/cache/_materialized_data/example.com-notebooks-1/dfa.csv\"\n",
      "}\n"
     ]
    }
   ],
   "source": [
    "%mt_materialize dfa '/Users/eric/proj/virt-proj/metapack/metapack-dev/metapack/.tox/cache/_materialized_data/example.com-notebooks-1' "
   ]
  },
  {
   "cell_type": "code",
   "execution_count": 8,
   "metadata": {
    "epilog": true,
    "mt_materialize": true
   },
   "outputs": [
    {
     "name": "stdout",
     "output_type": "stream",
     "text": [
      "[]\n"
     ]
    }
   ],
   "source": [
    "\n",
    "%mt_materialize_all '/Users/eric/proj/virt-proj/metapack/metapack-dev/metapack/.tox/cache/_materialized_data/example.com-notebooks-1'\n"
   ]
  },
  {
   "cell_type": "code",
   "execution_count": 9,
   "metadata": {
    "epilog": true,
    "mt_final_metatab": true
   },
   "outputs": [
    {
     "name": "stdout",
     "output_type": "stream",
     "text": [
      "Declare: metatab-latest\n",
      "Section: Resources|Name|Title|Description|StartLine|HeaderLines|Encoding\n"
     ]
    }
   ],
   "source": [
    "\n",
    "%mt_show_metatab\n",
    "\n"
   ]
  },
  {
   "cell_type": "code",
   "execution_count": 10,
   "metadata": {
    "epilog": true,
    "mt_show_libdirs": true
   },
   "outputs": [
    {
     "name": "stdout",
     "output_type": "stream",
     "text": [
      "[]\n"
     ]
    }
   ],
   "source": [
    "\n",
    "%mt_show_libdirs\n",
    "\n"
   ]
  }
 ],
 "metadata": {
  "kernelspec": {
   "display_name": "Python 3",
   "language": "python",
   "name": "python3"
  },
  "language_info": {
   "codemirror_mode": {
    "name": "ipython",
    "version": 3
   },
   "file_extension": ".py",
   "mimetype": "text/x-python",
   "name": "python",
   "nbconvert_exporter": "python",
   "pygments_lexer": "ipython3",
   "version": "3.6.0"
  },
  "varInspector": {
   "cols": {
    "lenName": 16.0,
    "lenType": 16.0,
    "lenVar": 40.0
   },
   "kernels_config": {
    "python": {
     "delete_cmd_postfix": "",
     "delete_cmd_prefix": "del ",
     "library": "var_list.py",
     "varRefreshCmd": "print(var_dic_list())"
    },
    "r": {
     "delete_cmd_postfix": ") ",
     "delete_cmd_prefix": "rm(",
     "library": "var_list.r",
     "varRefreshCmd": "cat(var_dic_list()) "
    }
   },
   "types_to_exclude": [
    "module",
    "function",
    "builtin_function_or_method",
    "instance",
    "_Feature"
   ],
   "window_display": false
  }
 },
 "nbformat": 4,
 "nbformat_minor": 2
}
