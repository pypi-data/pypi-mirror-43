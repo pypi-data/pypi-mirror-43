{
 "cells": [
  {
   "cell_type": "code",
   "execution_count": 1,
   "metadata": {
    "": true,
    "prolog": true
   },
   "outputs": [],
   "source": [
    "#2018-03-29 16:57:36.744153\n",
    "%load_ext metapack.jupyter.magic"
   ]
  },
  {
   "cell_type": "code",
   "execution_count": 2,
   "metadata": {},
   "outputs": [],
   "source": [
    "import pandas as pd\n",
    "import numpy as np\n",
    "import random"
   ]
  },
  {
   "cell_type": "code",
   "execution_count": 3,
   "metadata": {},
   "outputs": [],
   "source": [
    "N = 2500\n",
    "\n",
    "dfa = pd.DataFrame({\n",
    "        'int1': range(0,N),\n",
    "        'float2': np.linspace(0,1,N),\n",
    "        'str3': np.random.choice( list('abcdefghij'), N) \n",
    "        \n",
    "    })"
   ]
  },
  {
   "cell_type": "code",
   "execution_count": 4,
   "metadata": {},
   "outputs": [],
   "source": [
    "dfb = dfa.copy()*2"
   ]
  },
  {
   "cell_type": "code",
   "execution_count": 5,
   "metadata": {},
   "outputs": [],
   "source": []
  },
  {
   "cell_type": "code",
   "execution_count": 5,
   "metadata": {
    "epilog": true,
    "mt_dataframes": true
   },
   "outputs": [
    {
     "name": "stdout",
     "output_type": "stream",
     "text": [
      "{\n",
      "    \"df_name\": \"dfb\",\n",
      "    \"path\": \"/var/folders/_b/qfmw8p0s521g9bhh0s1nrmgr0000gp/T/tmpa4z0wv1d/dfb.csv\"\n",
      "}\n"
     ]
    }
   ],
   "source": [
    "%mt_materialize dfb /var/folders/_b/qfmw8p0s521g9bhh0s1nrmgr0000gp/T/tmpa4z0wv1d "
   ]
  },
  {
   "cell_type": "code",
   "execution_count": 6,
   "metadata": {
    "epilog": true,
    "mt_materialize": true
   },
   "outputs": [
    {
     "name": "stdout",
     "output_type": "stream",
     "text": [
      "[]\n"
     ]
    }
   ],
   "source": [
    "\n",
    "%mt_materialize_all /var/folders/_b/qfmw8p0s521g9bhh0s1nrmgr0000gp/T/tmpa4z0wv1d\n"
   ]
  },
  {
   "cell_type": "code",
   "execution_count": 7,
   "metadata": {
    "epilog": true,
    "mt_final_metatab": true
   },
   "outputs": [
    {
     "name": "stdout",
     "output_type": "stream",
     "text": [
      "Declare: metatab-latest\n",
      "Section: Resources\n"
     ]
    }
   ],
   "source": [
    "\n",
    "%mt_show_metatab\n",
    "\n"
   ]
  },
  {
   "cell_type": "code",
   "execution_count": 8,
   "metadata": {
    "epilog": true,
    "mt_show_libdirs": true
   },
   "outputs": [
    {
     "name": "stdout",
     "output_type": "stream",
     "text": [
      "[]\n"
     ]
    }
   ],
   "source": [
    "\n",
    "%mt_show_libdirs\n",
    "\n"
   ]
  }
 ],
 "metadata": {
  "kernelspec": {
   "display_name": "Python 3",
   "language": "python",
   "name": "python3"
  },
  "language_info": {
   "codemirror_mode": {
    "name": "ipython",
    "version": 3.0
   },
   "file_extension": ".py",
   "mimetype": "text/x-python",
   "name": "python",
   "nbconvert_exporter": "python",
   "pygments_lexer": "ipython3",
   "version": "3.6.1"
  },
  "varInspector": {
   "cols": {
    "lenName": 16.0,
    "lenType": 16.0,
    "lenVar": 40.0
   },
   "kernels_config": {
    "python": {
     "delete_cmd_postfix": "",
     "delete_cmd_prefix": "del ",
     "library": "var_list.py",
     "varRefreshCmd": "print(var_dic_list())"
    },
    "r": {
     "delete_cmd_postfix": ") ",
     "delete_cmd_prefix": "rm(",
     "library": "var_list.r",
     "varRefreshCmd": "cat(var_dic_list()) "
    }
   },
   "types_to_exclude": [
    "module",
    "function",
    "builtin_function_or_method",
    "instance",
    "_Feature"
   ],
   "window_display": false
  }
 },
 "nbformat": 4,
 "nbformat_minor": 2
}
