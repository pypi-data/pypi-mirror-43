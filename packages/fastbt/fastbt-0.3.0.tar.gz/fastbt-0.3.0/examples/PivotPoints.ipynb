{
 "cells": [
  {
   "cell_type": "markdown",
   "metadata": {},
   "source": [
    "## Pivot Points trading\n",
    "\n",
    "We would try pivot points trading. The following formulas would be used\n",
    "\n",
    " * P = (H+L+C)/3\n",
    " * R1 = 2 * P - L\n",
    " * S1 = 2 * P - H\n",
    " * R2 = P + (H - L)\n",
    " * S2 = P - (H - L)\n",
    " * R3 = R1 + (H- L)\n",
    " * S3 = S1 - (H - L)"
   ]
  },
  {
   "cell_type": "code",
   "execution_count": 64,
   "metadata": {},
   "outputs": [],
   "source": [
    "# Import the necessary libraries\n",
    "import pandas as pd\n",
    "import seaborn as sns\n",
    "sns.set()\n",
    "from fastbt.datasource import DataSource\n",
    "from fastbt.rapid import *"
   ]
  },
  {
   "cell_type": "code",
   "execution_count": 65,
   "metadata": {},
   "outputs": [],
   "source": [
    "# Loading data\n",
    "df = pd.read_csv('data/data.csv', parse_dates=['timestamp'])"
   ]
  },
  {
   "cell_type": "code",
   "execution_count": 66,
   "metadata": {},
   "outputs": [
    {
     "data": {
      "text/html": [
       "<div>\n",
       "<style scoped>\n",
       "    .dataframe tbody tr th:only-of-type {\n",
       "        vertical-align: middle;\n",
       "    }\n",
       "\n",
       "    .dataframe tbody tr th {\n",
       "        vertical-align: top;\n",
       "    }\n",
       "\n",
       "    .dataframe thead th {\n",
       "        text-align: right;\n",
       "    }\n",
       "</style>\n",
       "<table border=\"1\" class=\"dataframe\">\n",
       "  <thead>\n",
       "    <tr style=\"text-align: right;\">\n",
       "      <th></th>\n",
       "      <th>symbol</th>\n",
       "      <th>series</th>\n",
       "      <th>open</th>\n",
       "      <th>high</th>\n",
       "      <th>low</th>\n",
       "      <th>close</th>\n",
       "      <th>last</th>\n",
       "      <th>prevclose</th>\n",
       "      <th>qty</th>\n",
       "      <th>volume</th>\n",
       "      <th>timestamp</th>\n",
       "      <th>totaltrades</th>\n",
       "      <th>isin_code</th>\n",
       "      <th>prevdayret</th>\n",
       "      <th>prevhigh</th>\n",
       "      <th>prevlow</th>\n",
       "    </tr>\n",
       "  </thead>\n",
       "  <tbody>\n",
       "    <tr>\n",
       "      <th>0</th>\n",
       "      <td>INFY</td>\n",
       "      <td>EQ</td>\n",
       "      <td>1037.7</td>\n",
       "      <td>1044.5</td>\n",
       "      <td>1030.00</td>\n",
       "      <td>1033.55</td>\n",
       "      <td>1032.15</td>\n",
       "      <td>1042.05</td>\n",
       "      <td>2715670</td>\n",
       "      <td>2.814046e+09</td>\n",
       "      <td>2018-01-01</td>\n",
       "      <td>65839</td>\n",
       "      <td>INE009A01021</td>\n",
       "      <td>NaN</td>\n",
       "      <td>NaN</td>\n",
       "      <td>NaN</td>\n",
       "    </tr>\n",
       "    <tr>\n",
       "      <th>1</th>\n",
       "      <td>IOC</td>\n",
       "      <td>EQ</td>\n",
       "      <td>390.0</td>\n",
       "      <td>392.5</td>\n",
       "      <td>388.50</td>\n",
       "      <td>389.95</td>\n",
       "      <td>390.50</td>\n",
       "      <td>388.55</td>\n",
       "      <td>2218462</td>\n",
       "      <td>8.658350e+08</td>\n",
       "      <td>2018-01-01</td>\n",
       "      <td>24346</td>\n",
       "      <td>INE242A01010</td>\n",
       "      <td>NaN</td>\n",
       "      <td>NaN</td>\n",
       "      <td>NaN</td>\n",
       "    </tr>\n",
       "    <tr>\n",
       "      <th>2</th>\n",
       "      <td>IBULHSGFIN</td>\n",
       "      <td>EQ</td>\n",
       "      <td>1196.6</td>\n",
       "      <td>1243.9</td>\n",
       "      <td>1194.85</td>\n",
       "      <td>1218.15</td>\n",
       "      <td>1217.50</td>\n",
       "      <td>1196.60</td>\n",
       "      <td>1323659</td>\n",
       "      <td>1.625793e+09</td>\n",
       "      <td>2018-01-01</td>\n",
       "      <td>26037</td>\n",
       "      <td>INE148I01020</td>\n",
       "      <td>NaN</td>\n",
       "      <td>NaN</td>\n",
       "      <td>NaN</td>\n",
       "    </tr>\n",
       "    <tr>\n",
       "      <th>3</th>\n",
       "      <td>HINDUNILVR</td>\n",
       "      <td>EQ</td>\n",
       "      <td>1367.0</td>\n",
       "      <td>1367.0</td>\n",
       "      <td>1340.05</td>\n",
       "      <td>1344.50</td>\n",
       "      <td>1345.00</td>\n",
       "      <td>1367.85</td>\n",
       "      <td>746852</td>\n",
       "      <td>1.007039e+09</td>\n",
       "      <td>2018-01-01</td>\n",
       "      <td>16383</td>\n",
       "      <td>INE030A01027</td>\n",
       "      <td>NaN</td>\n",
       "      <td>NaN</td>\n",
       "      <td>NaN</td>\n",
       "    </tr>\n",
       "    <tr>\n",
       "      <th>4</th>\n",
       "      <td>HINDPETRO</td>\n",
       "      <td>EQ</td>\n",
       "      <td>419.0</td>\n",
       "      <td>421.2</td>\n",
       "      <td>412.40</td>\n",
       "      <td>413.75</td>\n",
       "      <td>414.80</td>\n",
       "      <td>418.60</td>\n",
       "      <td>2087052</td>\n",
       "      <td>8.674081e+08</td>\n",
       "      <td>2018-01-01</td>\n",
       "      <td>15704</td>\n",
       "      <td>INE094A01015</td>\n",
       "      <td>NaN</td>\n",
       "      <td>NaN</td>\n",
       "      <td>NaN</td>\n",
       "    </tr>\n",
       "  </tbody>\n",
       "</table>\n",
       "</div>"
      ],
      "text/plain": [
       "       symbol series    open    high      low    close     last  prevclose  \\\n",
       "0        INFY     EQ  1037.7  1044.5  1030.00  1033.55  1032.15    1042.05   \n",
       "1         IOC     EQ   390.0   392.5   388.50   389.95   390.50     388.55   \n",
       "2  IBULHSGFIN     EQ  1196.6  1243.9  1194.85  1218.15  1217.50    1196.60   \n",
       "3  HINDUNILVR     EQ  1367.0  1367.0  1340.05  1344.50  1345.00    1367.85   \n",
       "4   HINDPETRO     EQ   419.0   421.2   412.40   413.75   414.80     418.60   \n",
       "\n",
       "       qty        volume  timestamp  totaltrades     isin_code  prevdayret  \\\n",
       "0  2715670  2.814046e+09 2018-01-01        65839  INE009A01021         NaN   \n",
       "1  2218462  8.658350e+08 2018-01-01        24346  INE242A01010         NaN   \n",
       "2  1323659  1.625793e+09 2018-01-01        26037  INE148I01020         NaN   \n",
       "3   746852  1.007039e+09 2018-01-01        16383  INE030A01027         NaN   \n",
       "4  2087052  8.674081e+08 2018-01-01        15704  INE094A01015         NaN   \n",
       "\n",
       "   prevhigh  prevlow  \n",
       "0       NaN      NaN  \n",
       "1       NaN      NaN  \n",
       "2       NaN      NaN  \n",
       "3       NaN      NaN  \n",
       "4       NaN      NaN  "
      ]
     },
     "execution_count": 66,
     "metadata": {},
     "output_type": "execute_result"
    }
   ],
   "source": [
    "# Let's look at the first 5 rows\n",
    "df.head()"
   ]
  },
  {
   "cell_type": "markdown",
   "metadata": {},
   "source": [
    "Let's add all the formulas above.\n",
    "\n",
    "I use the eval function to use the formula directly. The `eval` function is used to evaluate expression as formulas. So instead of writing\n",
    "```python\n",
    "    df['p'] = (df['high'] + df['low'] + df['close'])/3\n",
    "```\n",
    "you could used\n",
    "```python\n",
    "    df['p'] = df.eval('(high+low+close)/3')\n",
    "```"
   ]
  },
  {
   "cell_type": "code",
   "execution_count": 67,
   "metadata": {},
   "outputs": [],
   "source": [
    "# Now add the necessary formulas\n",
    "\n",
    "df['_p'] = df.eval('(high+low+close)/3')\n",
    "df['_r1'] = df.eval('2*_p-low')\n",
    "df['_s1'] = df.eval('2*_p-high')\n",
    "df['_r2'] = df.eval('_p+(high-low)')\n",
    "df['_s2'] = df.eval('_p-(high-low)')\n",
    "df['_r3'] = df.eval('_r1+(high-low)')\n",
    "df['_s3'] = df.eval('_s1-(high-low)')\n",
    "\n"
   ]
  },
  {
   "cell_type": "markdown",
   "metadata": {},
   "source": [
    "The pivot points we calculated are based on the data for the end of the data. We need this data for the next day to make trades. So, I would just be lagging the data for these columns for one day.\n",
    "\n",
    "*The columns would now be named without underscore.*"
   ]
  },
  {
   "cell_type": "code",
   "execution_count": 68,
   "metadata": {},
   "outputs": [],
   "source": [
    "cols = ['_p', '_r1', '_r2', '_r3', '_s1', '_s2', '_s3']\n",
    "ds = DataSource(df)\n",
    "for col in cols:\n",
    "    ds.add_lag(on=col, period=1, col_name=col[1:])\n",
    "\n",
    "# Let's add the daily return \n",
    "ds.add_formula('(prevclose/close)-1', col_name='ret')\n",
    "ds.add_lag(on='ret', period=1, col_name='retprev');"
   ]
  },
  {
   "cell_type": "markdown",
   "metadata": {},
   "source": [
    "Let's take a look at the correlation to see whether these points have any effect. Looks nothing interesting"
   ]
  },
  {
   "cell_type": "code",
   "execution_count": 69,
   "metadata": {},
   "outputs": [
    {
     "data": {
      "text/plain": [
       "volume        -0.014000\n",
       "prevdayret    -0.013819\n",
       "last          -0.009858\n",
       "close         -0.009842\n",
       "_s3           -0.009368\n",
       "_s1           -0.009336\n",
       "_r1           -0.009304\n",
       "_r3           -0.009273\n",
       "_s2           -0.008818\n",
       "_p            -0.008799\n",
       "_r2           -0.008778\n",
       "low           -0.008281\n",
       "high          -0.008273\n",
       "open          -0.006469\n",
       "s3            -0.003573\n",
       "s2            -0.003486\n",
       "s1            -0.003433\n",
       "prevlow       -0.003401\n",
       "p             -0.003350\n",
       "r1            -0.003300\n",
       "prevhigh      -0.003269\n",
       "r2            -0.003220\n",
       "r3            -0.003172\n",
       "prevclose     -0.002847\n",
       "totaltrades    0.003841\n",
       "qty            0.013411\n",
       "retprev        0.015864\n",
       "ret            1.000000\n",
       "Name: ret, dtype: float64"
      ]
     },
     "execution_count": 69,
     "metadata": {},
     "output_type": "execute_result"
    }
   ],
   "source": [
    "ds.data.corr()['ret'].sort_values()"
   ]
  },
  {
   "cell_type": "markdown",
   "metadata": {},
   "source": [
    "Let's create the parameters for backtest\n",
    "\n",
    "We would place buy orders when the price hits the first support and hold till the end of the day. \n",
    "\n",
    "We would select 3 orders every day sorted according to price (this is *dumb* but we need some security selection)"
   ]
  },
  {
   "cell_type": "code",
   "execution_count": 70,
   "metadata": {},
   "outputs": [],
   "source": [
    "# Backtest parameters\n",
    "# \n",
    "\n",
    "params = {\n",
    "    'data': ds.data.dropna(),\n",
    "    'limit': 3,\n",
    "    'sort_by': 'price',\n",
    "    'order': 'B',\n",
    "    'price': 's1-0.05', # Buy only when price falls below support\n",
    "    'stop_loss': 100, # No stop loss,\n",
    "    'commission': 0.05\n",
    "}"
   ]
  },
  {
   "cell_type": "code",
   "execution_count": 71,
   "metadata": {},
   "outputs": [],
   "source": [
    "results = backtest(**params)"
   ]
  },
  {
   "cell_type": "code",
   "execution_count": 72,
   "metadata": {},
   "outputs": [
    {
     "data": {
      "text/plain": [
       "<matplotlib.axes._subplots.AxesSubplot at 0x7fc925085f98>"
      ]
     },
     "execution_count": 72,
     "metadata": {},
     "output_type": "execute_result"
    },
    {
     "data": {
      "image/png": "[encoded data removed]",
      "text/plain": [
       "<Figure size 432x288 with 1 Axes>"
      ]
     },
     "metadata": {},
     "output_type": "display_data"
    }
   ],
   "source": [
    "results.groupby('timestamp').profit.sum().cumsum().plot(\n",
    "    title='Cumulative Profit')"
   ]
  },
  {
   "cell_type": "markdown",
   "metadata": {},
   "source": [
    "Let's try selling orders at first resistance and holding them till the end of the day"
   ]
  },
  {
   "cell_type": "code",
   "execution_count": 73,
   "metadata": {},
   "outputs": [],
   "source": [
    "params = {\n",
    "    'data': ds.data.dropna(),\n",
    "    'limit': 3,\n",
    "    'sort_by': 'price',\n",
    "    'order': 'S',\n",
    "    'price': 'r1+0.05', # Buy only when price goes above resistance\n",
    "    'stop_loss': 100, # No stop loss,\n",
    "    'commission': 0.05\n",
    "}\n"
   ]
  },
  {
   "cell_type": "code",
   "execution_count": 74,
   "metadata": {},
   "outputs": [
    {
     "data": {
      "text/plain": [
       "<matplotlib.axes._subplots.AxesSubplot at 0x7fc925113d68>"
      ]
     },
     "execution_count": 74,
     "metadata": {},
     "output_type": "execute_result"
    },
    {
     "data": {
      "image/png": "[encoded data removed]",
      "text/plain": [
       "<Figure size 432x288 with 1 Axes>"
      ]
     },
     "metadata": {},
     "output_type": "display_data"
    }
   ],
   "source": [
    "results2 = backtest(**params)\n",
    "results2.groupby('timestamp').profit.sum().cumsum().plot(\n",
    "    title='Cumulative Profit')"
   ]
  },
  {
   "cell_type": "markdown",
   "metadata": {},
   "source": [
    "Wow, we got profit in both these cases.\n",
    "\n",
    "Let's try out a different sort mode, on previous day return"
   ]
  },
  {
   "cell_type": "code",
   "execution_count": 75,
   "metadata": {},
   "outputs": [
    {
     "data": {
      "text/plain": [
       "<matplotlib.axes._subplots.AxesSubplot at 0x7fc92403f828>"
      ]
     },
     "execution_count": 75,
     "metadata": {},
     "output_type": "execute_result"
    },
    {
     "data": {
      "image/png": "[encoded data removed]",
      "text/plain": [
       "<Figure size 432x288 with 1 Axes>"
      ]
     },
     "metadata": {},
     "output_type": "display_data"
    }
   ],
   "source": [
    "params.update({'sort_by': 'retprev'})\n",
    "backtest(**params).groupby('timestamp').profit.sum().cumsum().plot(\n",
    "    title='Cumulative Profit')"
   ]
  },
  {
   "cell_type": "markdown",
   "metadata": {},
   "source": [
    "We see no big difference in results.\n",
    "\n",
    "Let's merge the results and see the trades."
   ]
  },
  {
   "cell_type": "code",
   "execution_count": 76,
   "metadata": {},
   "outputs": [
    {
     "data": {
      "text/html": [
       "<div>\n",
       "<style scoped>\n",
       "    .dataframe tbody tr th:only-of-type {\n",
       "        vertical-align: middle;\n",
       "    }\n",
       "\n",
       "    .dataframe tbody tr th {\n",
       "        vertical-align: top;\n",
       "    }\n",
       "\n",
       "    .dataframe thead th {\n",
       "        text-align: right;\n",
       "    }\n",
       "</style>\n",
       "<table border=\"1\" class=\"dataframe\">\n",
       "  <thead>\n",
       "    <tr style=\"text-align: right;\">\n",
       "      <th></th>\n",
       "      <th>symbol</th>\n",
       "      <th>series</th>\n",
       "      <th>open</th>\n",
       "      <th>high</th>\n",
       "      <th>low</th>\n",
       "      <th>close</th>\n",
       "      <th>last</th>\n",
       "      <th>prevclose</th>\n",
       "      <th>qty</th>\n",
       "      <th>volume</th>\n",
       "      <th>totaltrades</th>\n",
       "      <th>isin_code</th>\n",
       "      <th>prevdayret</th>\n",
       "      <th>prevhigh</th>\n",
       "      <th>prevlow</th>\n",
       "      <th>p</th>\n",
       "      <th>r1</th>\n",
       "      <th>r2</th>\n",
       "      <th>r3</th>\n",
       "      <th>s1</th>\n",
       "      <th>s2</th>\n",
       "      <th>s3</th>\n",
       "      <th>ret</th>\n",
       "      <th>retprev</th>\n",
       "      <th>price</th>\n",
       "      <th>stop_loss</th>\n",
       "      <th>buy</th>\n",
       "      <th>sell</th>\n",
       "      <th>cnt</th>\n",
       "      <th>profit</th>\n",
       "      <th>commission</th>\n",
       "      <th>slippage</th>\n",
       "      <th>net_profit</th>\n",
       "    </tr>\n",
       "    <tr>\n",
       "      <th>timestamp</th>\n",
       "      <th></th>\n",
       "      <th></th>\n",
       "      <th></th>\n",
       "      <th></th>\n",
       "      <th></th>\n",
       "      <th></th>\n",
       "      <th></th>\n",
       "      <th></th>\n",
       "      <th></th>\n",
       "      <th></th>\n",
       "      <th></th>\n",
       "      <th></th>\n",
       "      <th></th>\n",
       "      <th></th>\n",
       "      <th></th>\n",
       "      <th></th>\n",
       "      <th></th>\n",
       "      <th></th>\n",
       "      <th></th>\n",
       "      <th></th>\n",
       "      <th></th>\n",
       "      <th></th>\n",
       "      <th></th>\n",
       "      <th></th>\n",
       "      <th></th>\n",
       "      <th></th>\n",
       "      <th></th>\n",
       "      <th></th>\n",
       "      <th></th>\n",
       "      <th></th>\n",
       "      <th></th>\n",
       "      <th></th>\n",
       "      <th></th>\n",
       "    </tr>\n",
       "  </thead>\n",
       "  <tbody>\n",
       "    <tr>\n",
       "      <th>2018-01-03</th>\n",
       "      <td>NTPC</td>\n",
       "      <td>EQ</td>\n",
       "      <td>179.5</td>\n",
       "      <td>180.30</td>\n",
       "      <td>176.75</td>\n",
       "      <td>177.05</td>\n",
       "      <td>177.00</td>\n",
       "      <td>178.90</td>\n",
       "      <td>188.0</td>\n",
       "      <td>1.841344e+09</td>\n",
       "      <td>46065</td>\n",
       "      <td>INE733E01010</td>\n",
       "      <td>0.013311</td>\n",
       "      <td>179.25</td>\n",
       "      <td>176.55</td>\n",
       "      <td>178.233333</td>\n",
       "      <td>179.916667</td>\n",
       "      <td>180.933333</td>\n",
       "      <td>182.616667</td>\n",
       "      <td>177.216667</td>\n",
       "      <td>175.533333</td>\n",
       "      <td>174.516667</td>\n",
       "      <td>0.010449</td>\n",
       "      <td>-0.013136</td>\n",
       "      <td>177.15</td>\n",
       "      <td>0.0</td>\n",
       "      <td>177.15</td>\n",
       "      <td>177.05</td>\n",
       "      <td>3</td>\n",
       "      <td>-18.80</td>\n",
       "      <td>33.294800</td>\n",
       "      <td>0.0</td>\n",
       "      <td>-52.094800</td>\n",
       "    </tr>\n",
       "    <tr>\n",
       "      <th>2018-01-03</th>\n",
       "      <td>NTPC</td>\n",
       "      <td>EQ</td>\n",
       "      <td>179.5</td>\n",
       "      <td>180.30</td>\n",
       "      <td>176.75</td>\n",
       "      <td>177.05</td>\n",
       "      <td>177.00</td>\n",
       "      <td>178.90</td>\n",
       "      <td>185.0</td>\n",
       "      <td>1.841344e+09</td>\n",
       "      <td>46065</td>\n",
       "      <td>INE733E01010</td>\n",
       "      <td>0.013311</td>\n",
       "      <td>179.25</td>\n",
       "      <td>176.55</td>\n",
       "      <td>178.233333</td>\n",
       "      <td>179.916667</td>\n",
       "      <td>180.933333</td>\n",
       "      <td>182.616667</td>\n",
       "      <td>177.216667</td>\n",
       "      <td>175.533333</td>\n",
       "      <td>174.516667</td>\n",
       "      <td>0.010449</td>\n",
       "      <td>-0.013136</td>\n",
       "      <td>179.95</td>\n",
       "      <td>359.9</td>\n",
       "      <td>177.05</td>\n",
       "      <td>179.95</td>\n",
       "      <td>3</td>\n",
       "      <td>536.50</td>\n",
       "      <td>33.022500</td>\n",
       "      <td>0.0</td>\n",
       "      <td>503.477500</td>\n",
       "    </tr>\n",
       "    <tr>\n",
       "      <th>2018-01-03</th>\n",
       "      <td>POWERGRID</td>\n",
       "      <td>EQ</td>\n",
       "      <td>201.5</td>\n",
       "      <td>202.45</td>\n",
       "      <td>200.60</td>\n",
       "      <td>201.65</td>\n",
       "      <td>202.10</td>\n",
       "      <td>200.75</td>\n",
       "      <td>165.0</td>\n",
       "      <td>9.281992e+08</td>\n",
       "      <td>68699</td>\n",
       "      <td>INE752E01010</td>\n",
       "      <td>0.002747</td>\n",
       "      <td>201.80</td>\n",
       "      <td>199.30</td>\n",
       "      <td>200.616667</td>\n",
       "      <td>201.933333</td>\n",
       "      <td>203.116667</td>\n",
       "      <td>204.433333</td>\n",
       "      <td>199.433333</td>\n",
       "      <td>198.116667</td>\n",
       "      <td>196.933333</td>\n",
       "      <td>-0.004463</td>\n",
       "      <td>-0.002740</td>\n",
       "      <td>202.00</td>\n",
       "      <td>404.0</td>\n",
       "      <td>201.65</td>\n",
       "      <td>202.00</td>\n",
       "      <td>3</td>\n",
       "      <td>57.75</td>\n",
       "      <td>33.301125</td>\n",
       "      <td>0.0</td>\n",
       "      <td>24.448875</td>\n",
       "    </tr>\n",
       "    <tr>\n",
       "      <th>2018-01-03</th>\n",
       "      <td>ONGC</td>\n",
       "      <td>EQ</td>\n",
       "      <td>197.4</td>\n",
       "      <td>197.40</td>\n",
       "      <td>193.00</td>\n",
       "      <td>193.45</td>\n",
       "      <td>193.65</td>\n",
       "      <td>196.85</td>\n",
       "      <td>168.0</td>\n",
       "      <td>1.562229e+09</td>\n",
       "      <td>58365</td>\n",
       "      <td>INE213A01029</td>\n",
       "      <td>0.023395</td>\n",
       "      <td>197.50</td>\n",
       "      <td>195.00</td>\n",
       "      <td>196.450000</td>\n",
       "      <td>197.900000</td>\n",
       "      <td>198.950000</td>\n",
       "      <td>200.400000</td>\n",
       "      <td>195.400000</td>\n",
       "      <td>193.950000</td>\n",
       "      <td>192.900000</td>\n",
       "      <td>0.017576</td>\n",
       "      <td>-0.022860</td>\n",
       "      <td>197.95</td>\n",
       "      <td>395.9</td>\n",
       "      <td>193.45</td>\n",
       "      <td>193.45</td>\n",
       "      <td>3</td>\n",
       "      <td>0.00</td>\n",
       "      <td>32.499600</td>\n",
       "      <td>0.0</td>\n",
       "      <td>-32.499600</td>\n",
       "    </tr>\n",
       "    <tr>\n",
       "      <th>2018-01-03</th>\n",
       "      <td>ONGC</td>\n",
       "      <td>EQ</td>\n",
       "      <td>197.4</td>\n",
       "      <td>197.40</td>\n",
       "      <td>193.00</td>\n",
       "      <td>193.45</td>\n",
       "      <td>193.65</td>\n",
       "      <td>196.85</td>\n",
       "      <td>171.0</td>\n",
       "      <td>1.562229e+09</td>\n",
       "      <td>58365</td>\n",
       "      <td>INE213A01029</td>\n",
       "      <td>0.023395</td>\n",
       "      <td>197.50</td>\n",
       "      <td>195.00</td>\n",
       "      <td>196.450000</td>\n",
       "      <td>197.900000</td>\n",
       "      <td>198.950000</td>\n",
       "      <td>200.400000</td>\n",
       "      <td>195.400000</td>\n",
       "      <td>193.950000</td>\n",
       "      <td>192.900000</td>\n",
       "      <td>0.017576</td>\n",
       "      <td>-0.022860</td>\n",
       "      <td>195.35</td>\n",
       "      <td>0.0</td>\n",
       "      <td>195.35</td>\n",
       "      <td>193.45</td>\n",
       "      <td>3</td>\n",
       "      <td>-324.90</td>\n",
       "      <td>33.242400</td>\n",
       "      <td>0.0</td>\n",
       "      <td>-358.142400</td>\n",
       "    </tr>\n",
       "  </tbody>\n",
       "</table>\n",
       "</div>"
      ],
      "text/plain": [
       "               symbol series   open    high     low   close    last  \\\n",
       "timestamp                                                             \n",
       "2018-01-03       NTPC     EQ  179.5  180.30  176.75  177.05  177.00   \n",
       "2018-01-03       NTPC     EQ  179.5  180.30  176.75  177.05  177.00   \n",
       "2018-01-03  POWERGRID     EQ  201.5  202.45  200.60  201.65  202.10   \n",
       "2018-01-03       ONGC     EQ  197.4  197.40  193.00  193.45  193.65   \n",
       "2018-01-03       ONGC     EQ  197.4  197.40  193.00  193.45  193.65   \n",
       "\n",
       "            prevclose    qty        volume  totaltrades     isin_code  \\\n",
       "timestamp                                                               \n",
       "2018-01-03     178.90  188.0  1.841344e+09        46065  INE733E01010   \n",
       "2018-01-03     178.90  185.0  1.841344e+09        46065  INE733E01010   \n",
       "2018-01-03     200.75  165.0  9.281992e+08        68699  INE752E01010   \n",
       "2018-01-03     196.85  168.0  1.562229e+09        58365  INE213A01029   \n",
       "2018-01-03     196.85  171.0  1.562229e+09        58365  INE213A01029   \n",
       "\n",
       "            prevdayret  prevhigh  prevlow           p          r1          r2  \\\n",
       "timestamp                                                                       \n",
       "2018-01-03    0.013311    179.25   176.55  178.233333  179.916667  180.933333   \n",
       "2018-01-03    0.013311    179.25   176.55  178.233333  179.916667  180.933333   \n",
       "2018-01-03    0.002747    201.80   199.30  200.616667  201.933333  203.116667   \n",
       "2018-01-03    0.023395    197.50   195.00  196.450000  197.900000  198.950000   \n",
       "2018-01-03    0.023395    197.50   195.00  196.450000  197.900000  198.950000   \n",
       "\n",
       "                    r3          s1          s2          s3       ret  \\\n",
       "timestamp                                                              \n",
       "2018-01-03  182.616667  177.216667  175.533333  174.516667  0.010449   \n",
       "2018-01-03  182.616667  177.216667  175.533333  174.516667  0.010449   \n",
       "2018-01-03  204.433333  199.433333  198.116667  196.933333 -0.004463   \n",
       "2018-01-03  200.400000  195.400000  193.950000  192.900000  0.017576   \n",
       "2018-01-03  200.400000  195.400000  193.950000  192.900000  0.017576   \n",
       "\n",
       "             retprev   price  stop_loss     buy    sell  cnt  profit  \\\n",
       "timestamp                                                              \n",
       "2018-01-03 -0.013136  177.15        0.0  177.15  177.05    3  -18.80   \n",
       "2018-01-03 -0.013136  179.95      359.9  177.05  179.95    3  536.50   \n",
       "2018-01-03 -0.002740  202.00      404.0  201.65  202.00    3   57.75   \n",
       "2018-01-03 -0.022860  197.95      395.9  193.45  193.45    3    0.00   \n",
       "2018-01-03 -0.022860  195.35        0.0  195.35  193.45    3 -324.90   \n",
       "\n",
       "            commission  slippage  net_profit  \n",
       "timestamp                                     \n",
       "2018-01-03   33.294800       0.0  -52.094800  \n",
       "2018-01-03   33.022500       0.0  503.477500  \n",
       "2018-01-03   33.301125       0.0   24.448875  \n",
       "2018-01-03   32.499600       0.0  -32.499600  \n",
       "2018-01-03   33.242400       0.0 -358.142400  "
      ]
     },
     "execution_count": 76,
     "metadata": {},
     "output_type": "execute_result"
    }
   ],
   "source": [
    "final = pd.concat([results, results2], sort=False).reset_index(drop=True)\n",
    "\n",
    "# Delete unwanted columns\n",
    "for col in final.columns:\n",
    "    if col.startswith('_'):\n",
    "        del final[col]\n",
    "\n",
    "pd.options.display.max_columns = 50\n",
    "final.sort_values(by='timestamp').set_index('timestamp').head()"
   ]
  },
  {
   "cell_type": "markdown",
   "metadata": {},
   "source": [
    "## Is this really profitable?\n",
    "\n",
    "Let's check out the metrics"
   ]
  },
  {
   "cell_type": "code",
   "execution_count": 77,
   "metadata": {},
   "outputs": [
    {
     "data": {
      "text/plain": [
       "{'profit': 17732.749999999818,\n",
       " 'commission': 24367.078475000002,\n",
       " 'slippage': 0.0,\n",
       " 'net_profit': -6634.328475000182,\n",
       " 'high': 4833.046449999952,\n",
       " 'low': -8416.673300000095,\n",
       " 'returns': -0.3317164237500091}"
      ]
     },
     "execution_count": 77,
     "metadata": {},
     "output_type": "execute_result"
    }
   ],
   "source": [
    "metrics(final, capital=20000)"
   ]
  },
  {
   "cell_type": "markdown",
   "metadata": {},
   "source": [
    "## Caveats\n",
    "\n",
    "Though it seems that this might result in a loss, we still have a decent return before profits. Important pointers\n",
    "\n",
    "* I included commission even for orders not place; reducing them would reduce the total expenses\n",
    "* **Slippage not included** in the calculation. I expect the excess commission paid would set off the slippage. But this is pure intuition; better **test it out**\n",
    "* The universe is NIFTY 50; trying it out on other universe or highly volatile stocks would give better results\n",
    "* Change prices to different levels and the pivot points calculation method\n",
    "* Add an estimator to sort results, so that you can determine whether its better to enter into support or resistance for a particular stock.\n",
    "* Try changing the other parameters\n",
    "\n"
   ]
  }
 ],
 "metadata": {
  "kernelspec": {
   "display_name": "Python 3",
   "language": "python",
   "name": "python3"
  },
  "language_info": {
   "codemirror_mode": {
    "name": "ipython",
    "version": 3
   },
   "file_extension": ".py",
   "mimetype": "text/x-python",
   "name": "python",
   "nbconvert_exporter": "python",
   "pygments_lexer": "ipython3",
   "version": "3.6.6"
  }
 },
 "nbformat": 4,
 "nbformat_minor": 2
}
