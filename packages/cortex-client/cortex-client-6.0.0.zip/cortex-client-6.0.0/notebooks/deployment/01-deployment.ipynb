{
 "cells": [
  {
   "cell_type": "markdown",
   "metadata": {},
   "source": [
    "# Deploying a Model\n",
    "\n",
    "Once the experiments have been run and a suitable model has been developed, the next step is to create an inference Skill that uses our model. This notebook demonstrates how to do this.\n",
    "\n",
    "## Selecting the Model\n",
    "\n",
    "In this example, the model is selected from the last run done in the [set up notebook](00-setup.ipynb). "
   ]
  },
  {
   "cell_type": "code",
   "execution_count": null,
   "metadata": {},
   "outputs": [],
   "source": [
    "%run ./00-setup.ipynb"
   ]
  },
  {
   "cell_type": "code",
   "execution_count": null,
   "metadata": {},
   "outputs": [],
   "source": [
    "from cortex import Cortex, Message\n",
    "\n",
    "client = Cortex.client()\n",
    "exp = client.experiment('flowers/experiment')\n",
    "\n",
    "exp"
   ]
  },
  {
   "cell_type": "markdown",
   "metadata": {},
   "source": [
    "After running the cell above, the experiment should display some runs from the previous notebook. The next cell selects the last of these and uses that as the model for the skill in this example."
   ]
  },
  {
   "cell_type": "code",
   "execution_count": null,
   "metadata": {},
   "outputs": [],
   "source": [
    "run = exp.last_run() \n",
    "\n",
    "model = run.get_artifact('model')\n",
    "\n",
    "print('Run id: %s \\nModel name: \"%s\"' % (run.id, model.name))"
   ]
  },
  {
   "cell_type": "markdown",
   "metadata": {},
   "source": [
    "## Creating an Action using the Model\n",
    "\n",
    "An action is built from the model. This is done with a builder, supplied by the Cortex client. In this example, the action name is `flowers/iris-predict`. A model may depend on other python libraries. To make those librarires available to the action, specify them in the `with_requirements` method. You only need to specify libraries that your model needs that are not provided by the cortex python SDK[ * ](#requirements). Here, requirements are for the keras library and the tensorflow backend. The final `build` command builds a docker image and deploys an Action to run it when invoked. "
   ]
  },
  {
   "cell_type": "code",
   "execution_count": null,
   "metadata": {},
   "outputs": [],
   "source": [
    "builder = client.builder()\n",
    "builder.action('flowers/iris-predict')\\\n",
    "        .with_requirements(['tensorflow>=1.12,<2',\n",
    "                            'keras>=2.2.4,<3'])\\\n",
    "        .from_model(model)\\\n",
    "        .build()"
   ]
  },
  {
   "cell_type": "markdown",
   "metadata": {},
   "source": [
    "Now instaniate the newly saved action so it can be tested. "
   ]
  },
  {
   "cell_type": "code",
   "execution_count": null,
   "metadata": {},
   "outputs": [],
   "source": [
    "action = client.action('flowers/iris-predict')\n",
    "action"
   ]
  },
  {
   "cell_type": "markdown",
   "metadata": {},
   "source": [
    "Below we test the action by invoking it to ensures the action is ready for use."
   ]
  },
  {
   "cell_type": "code",
   "execution_count": null,
   "metadata": {},
   "outputs": [],
   "source": [
    "params = {'columns': ['sepal_len','sepal_w','petal_len','petal_w'],\n",
    "           'values': [[4.9,3.1,1.5,0.2]]}\n",
    "\n",
    "result = action.invoke(message=client.message(params))\n",
    "print(result.payload)"
   ]
  },
  {
   "cell_type": "markdown",
   "metadata": {},
   "source": [
    "In the cell below, the maximum value for the three node output of the neural network is selected and matched to the appropriate type of iris flower. "
   ]
  },
  {
   "cell_type": "code",
   "execution_count": null,
   "metadata": {},
   "outputs": [],
   "source": [
    "x = numpy.argmax(result.payload['values'][0])\n",
    "\n",
    "iris_dict = {0:'Iris-setosa',1:'Iris-versicolor',2:'Iris-virginica'}\n",
    "\n",
    "iris_dict[x]"
   ]
  },
  {
   "cell_type": "markdown",
   "metadata": {},
   "source": [
    "## Creating a Skill using the Action\n",
    "\n",
    "To create a skill from the action, the builder is called to get a skill builder. "
   ]
  },
  {
   "cell_type": "code",
   "execution_count": null,
   "metadata": {},
   "outputs": [],
   "source": [
    "skill_builder = builder.skill('flowers/iris-predict')\\\n",
    "     .title('Iris Flower Prediction')\\\n",
    "     .description('Measurement based prediction for the type of Iris flowers.')\n"
   ]
  },
  {
   "cell_type": "markdown",
   "metadata": {},
   "source": [
    "Next a schema is built, and then used by the skill builder to identify elements of the input. In this case, the schema describes the measurement values for parts of the Iris flower. "
   ]
  },
  {
   "cell_type": "code",
   "execution_count": null,
   "metadata": {},
   "outputs": [],
   "source": [
    "schema_name = 'flowers/iris-input-schema'\n",
    "\n",
    "builder.schema(schema_name)\\\n",
    "     .title('Iris Prediction Schema Instance')\\\n",
    "     .from_parameters([{'name': 'values', 'type': 'array', 'format': 'float32'}]).build()\n",
    "\n",
    "skill_builder = skill_builder.input('iris-measurement').title('Iris Measurements')\\\n",
    "     .use_schema(schema_name)\\\n",
    "     .all_routing(action, 'measurement-based-prediction').build()"
   ]
  },
  {
   "cell_type": "markdown",
   "metadata": {},
   "source": [
    "Finally, specify the skill construction, a description of the skill is provided, including a name that matches the action name, and also a description of the output."
   ]
  },
  {
   "cell_type": "code",
   "execution_count": null,
   "metadata": {},
   "outputs": [],
   "source": [
    "skill_builder = skill_builder.output('measurement-based-prediction').title('Classification')\\\n",
    "    .parameter(name='IrisClass', type='array', format='float32').build()"
   ]
  },
  {
   "cell_type": "markdown",
   "metadata": {},
   "source": [
    "The skill builder is fully specified. Call `to_camel` so the contents can be reviewed."
   ]
  },
  {
   "cell_type": "code",
   "execution_count": null,
   "metadata": {},
   "outputs": [],
   "source": [
    "skill_builder.to_camel()"
   ]
  },
  {
   "cell_type": "markdown",
   "metadata": {},
   "source": [
    "## Publish the Skill\n",
    "\n",
    "Publishing the skill is accomplished by invoking the builder. Once published it can be used in Cortex Studio with other skills to compose agents. "
   ]
  },
  {
   "cell_type": "code",
   "execution_count": null,
   "metadata": {},
   "outputs": [],
   "source": [
    "skill = skill_builder.build()\n",
    "print('%s (%s) v%d' % (skill.title, skill.name, skill.version))"
   ]
  },
  {
   "cell_type": "markdown",
   "metadata": {},
   "source": [
    "----\n",
    "\n",
    "<a id='requirements'>*</a> Cortex Python SDK Provided Requirements \n",
    "\n",
    "These are the requirements that are provided by the Cortex Python SDK and need not be added to an action Docker Image. \n",
    "\n",
    "* seaborn>=0.9.0,<0.10\n",
    "* dill==0.2.8.2\n",
    "* discovery-transitioning-utils>=1.3.50,<2\n",
    "* fdk==0.0.31\n",
    "* dataclasses>=0.6\n",
    "* seaborn>=0.9.0,<0.10\n",
    "* matplotlib>=2.2.2,<3\n",
    "* more_itertools>=4.3.0,<5\n",
    "* pyyaml>=3.13,<4\n",
    "* cuid>=0.3,<1\n",
    "* maya==0.5.0\n",
    "* docker==3.5.0\n",
    "* deprecation==2.0.6\n",
    "* tenacity==5.0.2"
   ]
  }
 ],
 "metadata": {
  "kernelspec": {
   "display_name": "Python 3",
   "language": "python",
   "name": "python3"
  },
  "language_info": {
   "codemirror_mode": {
    "name": "ipython",
    "version": 3
   },
   "file_extension": ".py",
   "mimetype": "text/x-python",
   "name": "python",
   "nbconvert_exporter": "python",
   "pygments_lexer": "ipython3",
   "version": "3.6.5"
  }
 },
 "nbformat": 4,
 "nbformat_minor": 2
}
