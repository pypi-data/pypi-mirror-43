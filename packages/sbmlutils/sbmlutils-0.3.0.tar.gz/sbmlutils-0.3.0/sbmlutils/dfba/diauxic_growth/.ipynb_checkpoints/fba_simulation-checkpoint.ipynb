{
 "cells": [
  {
   "cell_type": "markdown",
   "metadata": {
    "collapsed": true
   },
   "source": [
    "## FBA simulation\n",
    "Simulating the FBA part of the diauxic growth model with `cobrapy` to check that the FBA part is working.\n",
    "This requires\n",
    "* `cobrapy >= 0.6.0a3`"
   ]
  },
  {
   "cell_type": "code",
   "execution_count": 10,
   "metadata": {
    "collapsed": false
   },
   "outputs": [],
   "source": [
    "from __future__ import print_function, absolute_import\n",
    "\n",
    "import pandas as pd\n",
    "import cobra\n",
    "from matplotlib import pyplot as plt\n",
    "\n",
    "from sbmlutils import fbc\n",
    "from sbmlutils.dfba.analysis import set_matplotlib_parameters\n",
    "from sbmlutils.dfba.diauxic_growth import model_factory\n",
    "\n",
    "set_matplotlib_parameters()"
   ]
  },
  {
   "cell_type": "code",
   "execution_count": 11,
   "metadata": {
    "collapsed": false
   },
   "outputs": [
    {
     "name": "stdout",
     "output_type": "stream",
     "text": [
      "./results/v9/diauxic_fba.xml\n"
     ]
    },
    {
     "data": {
      "text/plain": [
       "(<Model diauxic_fba at 0x7f2a6d77ed90>,\n",
       " {'SBML errors': [], 'other': [], 'validator': [], 'warnings': []})"
      ]
     },
     "execution_count": 11,
     "metadata": {},
     "output_type": "execute_result"
    }
   ],
   "source": [
    "# load model\n",
    "sbml_path = './results/v{}/diauxic_fba.xml'.format(model_factory.version)\n",
    "print(sbml_path)\n",
    "mfba = cobra.io.read_sbml_model(sbml_path)\n",
    "cobra.io.sbml3.validate_sbml_model(sbml_path)"
   ]
  },
  {
   "cell_type": "code",
   "execution_count": 12,
   "metadata": {
    "collapsed": false
   },
   "outputs": [
    {
     "name": "stdout",
     "output_type": "stream",
     "text": [
      "            lb    ub reversibility boundary objective_coefficient  \\\n",
      "v1           0  1000         False    False                     1   \n",
      "v2           0  1000         False    False                     1   \n",
      "v3           0  1000         False    False                     1   \n",
      "v4           0  1000         False    False                     1   \n",
      "EX_Ac    -1000  1000          True     True                     0   \n",
      "EX_Glcxt -1000     0         False     True                     0   \n",
      "EX_O2    -1000     0         False     True                     0   \n",
      "EX_X         0  1000         False     True                     0   \n",
      "\n",
      "               forward_variable                       reverse_variable  \n",
      "v1          0.0 <= v1 <= 1000.0             0 <= v1_reverse_6654c <= 0  \n",
      "v2          0.0 <= v2 <= 1000.0             0 <= v2_reverse_1b267 <= 0  \n",
      "v3          0.0 <= v3 <= 1000.0             0 <= v3_reverse_43a03 <= 0  \n",
      "v4          0.0 <= v4 <= 1000.0             0 <= v4_reverse_5ed3a <= 0  \n",
      "EX_Ac      0 <= EX_Ac <= 1000.0     0 <= EX_Ac_reverse_3765e <= 1000.0  \n",
      "EX_Glcxt   0 <= EX_Glcxt <= 0.0  0 <= EX_Glcxt_reverse_34a63 <= 1000.0  \n",
      "EX_O2         0 <= EX_O2 <= 0.0     0 <= EX_O2_reverse_23804 <= 1000.0  \n",
      "EX_X      0.0 <= EX_X <= 1000.0           0 <= EX_X_reverse_ff29b <= 0  \n"
     ]
    }
   ],
   "source": [
    "# objective function & boundaries\n",
    "# pprint(mfba.objective)\n",
    "df = fbc.cobra_reaction_info(mfba)\n",
    "print(df)"
   ]
  },
  {
   "cell_type": "code",
   "execution_count": 13,
   "metadata": {
    "collapsed": false
   },
   "outputs": [
    {
     "name": "stdout",
     "output_type": "stream",
     "text": [
      "IN FLUXES                      OUT FLUXES                  OBJECTIVES\n",
      "-----------------------------  --------------------------  ------------\n",
      "id       Flux  Range           id      Flux  Range         v4  13.9\n",
      "-----  ------  --------------  ----  ------  ------------  v3   0\n",
      "Glcxt   1e+03  [1e+03, 1e+03]  Ac     169    [169, 169]    v1   0\n",
      "O2      1e+03  [1e+03, 1e+03]  X       91.3  [91.3, 91.3]  v2  77.4\n"
     ]
    }
   ],
   "source": [
    "# optimize\n",
    "s = mfba.optimize(objective_sense=\"maximize\")\n",
    "mfba.summary(fva=True)"
   ]
  },
  {
   "cell_type": "code",
   "execution_count": 14,
   "metadata": {
    "collapsed": false
   },
   "outputs": [
    {
     "name": "stdout",
     "output_type": "stream",
     "text": [
      "IN FLUXES     OUT FLUXES    OBJECTIVES\n",
      "------------  ------------  ------------\n",
      "Glcxt  1e+03  Ac  169       v4  13.9\n",
      "O2     1e+03  X    91.3     v3   0\n",
      "                            v1   0\n",
      "                            v2  77.4\n"
     ]
    }
   ],
   "source": [
    "s = mfba.optimize(objective_sense=\"maximize\")\n",
    "cobra.flux_analysis.pfba(mfba)\n",
    "mfba.summary()"
   ]
  },
  {
   "cell_type": "code",
   "execution_count": null,
   "metadata": {
    "collapsed": false
   },
   "outputs": [],
   "source": [
    "# summary of solution\n",
    "mfba.summary(fva=True)\n",
    "print(s.status)\n",
    "print(mfba.reactions.EX_Ac.reaction)\n",
    "print(mfba.metabolites.Ac.summary())"
   ]
  },
  {
   "cell_type": "code",
   "execution_count": null,
   "metadata": {
    "collapsed": false
   },
   "outputs": [],
   "source": [
    "# FVA\n",
    "# running flux variability analysis with the model\n",
    "fva_result = cobra.flux_analysis.flux_variability_analysis(mfba, mfba.reactions)\n",
    "pd.DataFrame.from_dict(fva_result).round(5)"
   ]
  },
  {
   "cell_type": "code",
   "execution_count": null,
   "metadata": {
    "collapsed": false
   },
   "outputs": [],
   "source": [
    "s = mfba.optimize(objective_sense=\"maximize\")\n",
    "FBA_sol = cobra.flux_analysis.pfba(mfba)\n",
    "mfba.summary()"
   ]
  },
  {
   "cell_type": "markdown",
   "metadata": {
    "collapsed": true
   },
   "source": [
    "## Change the bounds"
   ]
  },
  {
   "cell_type": "code",
   "execution_count": null,
   "metadata": {
    "collapsed": false
   },
   "outputs": [],
   "source": [
    "import numpy as np\n",
    "import pandas as pd\n",
    "glc_bounds = np.linspace(-1000, 0, 20)\n",
    "results = []\n",
    "for lb_glc in glc_bounds:\n",
    "    mfba.reactions.EX_Glcxt.lower_bound = lb_glc\n",
    "    s = mfba.optimize(objective_sense=\"maximize\")\n",
    "    fluxes = s.fluxes\n",
    "    results.append(fluxes)\n",
    "df = pd.DataFrame(results)\n",
    "print(df)"
   ]
  },
  {
   "cell_type": "code",
   "execution_count": null,
   "metadata": {
    "collapsed": false
   },
   "outputs": [],
   "source": [
    "fig, (ax1, ax2) = plt.subplots(nrows=1, ncols=2, figsize=(14, 7))\n",
    "\n",
    "for vid in ['v1', 'v2', 'v3', 'v4']:\n",
    "    ax1.plot(df.EX_Glcxt, df[vid], marker='s', alpha=0.8, label=vid)\n",
    "\n",
    "ax2.plot([np.min(glc_bounds), np.max(glc_bounds)], [0, 0], color='k', linestyle='-', linewidth=1)\n",
    "for vid in ['EX_Ac', 'EX_O2', 'EX_Glcxt', 'EX_X']:\n",
    "    ax2.plot(df.EX_Glcxt, df[vid], marker='s', alpha=0.8, label=vid)\n",
    "ax2.set_ylim(-1000, 1000)\n",
    "    \n",
    "for ax in [ax1, ax2]:\n",
    "    ax.set_xlabel('Glc species bound')\n",
    "    ax.legend()\n",
    "\n",
    "plt.show()"
   ]
  },
  {
   "cell_type": "code",
   "execution_count": null,
   "metadata": {
    "collapsed": true
   },
   "outputs": [],
   "source": []
  }
 ],
 "metadata": {
  "kernelspec": {
   "display_name": "Python 2",
   "language": "python",
   "name": "python2"
  },
  "language_info": {
   "codemirror_mode": {
    "name": "ipython",
    "version": 2
   },
   "file_extension": ".py",
   "mimetype": "text/x-python",
   "name": "python",
   "nbconvert_exporter": "python",
   "pygments_lexer": "ipython2",
   "version": "2.7.6"
  }
 },
 "nbformat": 4,
 "nbformat_minor": 0
}
