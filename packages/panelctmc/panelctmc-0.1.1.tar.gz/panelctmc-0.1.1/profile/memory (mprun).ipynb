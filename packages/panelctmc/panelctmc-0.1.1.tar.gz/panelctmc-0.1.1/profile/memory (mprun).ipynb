{
 "cells": [
  {
   "cell_type": "markdown",
   "metadata": {},
   "source": [
    "# Memory Profile"
   ]
  },
  {
   "cell_type": "code",
   "execution_count": 1,
   "metadata": {},
   "outputs": [],
   "source": [
    "import sys\n",
    "sys.path.append('..')\n",
    "from panelctmc import panelctmc"
   ]
  },
  {
   "cell_type": "code",
   "execution_count": 2,
   "metadata": {},
   "outputs": [],
   "source": [
    "import numpy as np\n",
    "x = np.loadtxt('../data/demo1.csv', delimiter=',', skiprows=1, dtype=object)\n",
    "\n",
    "mapping = [['AAA', 'AA+', 'AA', 'AA-', 'A+', 'A', 'A-'], \n",
    "           ['BBB+', 'BBB', 'BBB-'],\n",
    "           ['BB+', 'BB', 'BB-'], \n",
    "           ['B+', 'B', 'B-']]"
   ]
  },
  {
   "cell_type": "code",
   "execution_count": 3,
   "metadata": {},
   "outputs": [],
   "source": [
    "%load_ext memory_profiler"
   ]
  },
  {
   "cell_type": "code",
   "execution_count": 4,
   "metadata": {},
   "outputs": [
    {
     "name": "stdout",
     "output_type": "stream",
     "text": [
      "peak memory: 58.38 MiB, increment: 0.39 MiB\n"
     ]
    }
   ],
   "source": [
    "%memit panelctmc(x, mapping)"
   ]
  },
  {
   "cell_type": "code",
   "execution_count": 6,
   "metadata": {},
   "outputs": [
    {
     "name": "stdout",
     "output_type": "stream",
     "text": [
      "\n"
     ]
    },
    {
     "data": {
      "text/plain": [
       "Filename: ../panelctmc/panelctmc_func.py\n",
       "\n",
       "Line #    Mem usage    Increment   Line Contents\n",
       "================================================\n",
       "     9     58.6 MiB     58.6 MiB   def panelctmc(paneldata, mapping, lastdate=None,\n",
       "    10                                           transintv=1.0, toltime=1e-8, debug=True):\n",
       "    11                                 # check if numpy array\n",
       "    12     58.6 MiB      0.0 MiB       if not isinstance(paneldata, np.ndarray):\n",
       "    13                                     raise Exception(\"'paneldata' is not a numpy array\")\n",
       "    14                             \n",
       "    15                                 # force dtype=object\n",
       "    16     58.6 MiB      0.0 MiB       paneldata = paneldata.astype(dtype=object)\n",
       "    17                             \n",
       "    18                                 # convert str to datetime objects\n",
       "    19     58.6 MiB      0.0 MiB       if isinstance(paneldata[:, 1][0], str):\n",
       "    20     58.7 MiB      0.0 MiB           paneldata[:, 1] = [datetime.strptime(\n",
       "    21     58.7 MiB      0.1 MiB               p, \"%Y-%m-%d\") for p in paneldata[:, 1]]\n",
       "    22                             \n",
       "    23                                 # encode state labels\n",
       "    24     58.7 MiB      0.0 MiB       paneldata[:, 2] = grouplabelencode(paneldata[:, 2], mapping, nastate=True)\n",
       "    25                             \n",
       "    26                                 # convert panel data to ctmc-datalist object\n",
       "    27     58.7 MiB      0.0 MiB       datalist = panel_to_datalist(paneldata, lastdate=lastdate)\n",
       "    28                             \n",
       "    29                                 # auto correct datalist\n",
       "    30     58.7 MiB      0.0 MiB       datalist = datacorrection(datalist)\n",
       "    31                             \n",
       "    32                                 # Compute transitition matrix\n",
       "    33     58.7 MiB      0.0 MiB       transmat, genmat, transcount, statetime = ctmc(\n",
       "    34     58.7 MiB      0.0 MiB           datalist, len(mapping) + 1, 1.0, toltime=1e-8, debug=True)\n",
       "    35                             \n",
       "    36                                 # done\n",
       "    37     58.7 MiB      0.0 MiB       return transmat, genmat, transcount, statetime, datalist"
      ]
     },
     "metadata": {},
     "output_type": "display_data"
    }
   ],
   "source": [
    "%mprun -f panelctmc panelctmc(x, mapping)"
   ]
  }
 ],
 "metadata": {
  "kernelspec": {
   "display_name": "Python 3",
   "language": "python",
   "name": "python3"
  },
  "language_info": {
   "codemirror_mode": {
    "name": "ipython",
    "version": 3
   },
   "file_extension": ".py",
   "mimetype": "text/x-python",
   "name": "python",
   "nbconvert_exporter": "python",
   "pygments_lexer": "ipython3",
   "version": "3.6.2"
  }
 },
 "nbformat": 4,
 "nbformat_minor": 2
}
