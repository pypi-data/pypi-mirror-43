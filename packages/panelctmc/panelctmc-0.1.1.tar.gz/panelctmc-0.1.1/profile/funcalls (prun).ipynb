{
 "cells": [
  {
   "cell_type": "markdown",
   "metadata": {},
   "source": [
    "# Execution Time by Function Calls"
   ]
  },
  {
   "cell_type": "code",
   "execution_count": 1,
   "metadata": {},
   "outputs": [],
   "source": [
    "import sys\n",
    "sys.path.append('..')\n",
    "from panelctmc import panelctmc"
   ]
  },
  {
   "cell_type": "code",
   "execution_count": 2,
   "metadata": {},
   "outputs": [],
   "source": [
    "import numpy as np\n",
    "x = np.loadtxt('../data/demo1.csv', delimiter=',', skiprows=1, dtype=object)\n",
    "\n",
    "mapping = [['AAA', 'AA+', 'AA', 'AA-', 'A+', 'A', 'A-'], \n",
    "           ['BBB+', 'BBB', 'BBB-'],\n",
    "           ['BB+', 'BB', 'BB-'], \n",
    "           ['B+', 'B', 'B-']]"
   ]
  },
  {
   "cell_type": "code",
   "execution_count": 3,
   "metadata": {},
   "outputs": [
    {
     "name": "stdout",
     "output_type": "stream",
     "text": [
      " "
     ]
    },
    {
     "data": {
      "text/plain": [
       "         38056 function calls (38019 primitive calls) in 0.072 seconds\n",
       "\n",
       "   Ordered by: internal time\n",
       "   List reduced from 207 to 2 due to restriction <'panelctmc_func.py'>\n",
       "\n",
       "   ncalls  tottime  percall  cumtime  percall filename:lineno(function)\n",
       "        1    0.001    0.001    0.032    0.032 panelctmc_func.py:20(<listcomp>)\n",
       "        1    0.000    0.000    0.072    0.072 panelctmc_func.py:9(panelctmc)"
      ]
     },
     "metadata": {},
     "output_type": "display_data"
    }
   ],
   "source": [
    "%prun -l panelctmc_func.py panelctmc(x, mapping)"
   ]
  },
  {
   "cell_type": "code",
   "execution_count": 4,
   "metadata": {},
   "outputs": [
    {
     "name": "stdout",
     "output_type": "stream",
     "text": [
      " "
     ]
    },
    {
     "data": {
      "text/plain": [
       "         36497 function calls in 0.073 seconds\n",
       "\n",
       "   Ordered by: internal time\n",
       "   List reduced from 155 to 3 due to restriction <'ctmc_func.py'>\n",
       "\n",
       "   ncalls  tottime  percall  cumtime  percall filename:lineno(function)\n",
       "        1    0.001    0.001    0.040    0.040 panelctmc_func.py:20(<listcomp>)\n",
       "        1    0.000    0.000    0.073    0.073 panelctmc_func.py:9(panelctmc)\n",
       "        1    0.000    0.000    0.009    0.009 ctmc_func.py:9(ctmc)"
      ]
     },
     "metadata": {},
     "output_type": "display_data"
    }
   ],
   "source": [
    "%prun -l ctmc_func.py panelctmc(x, mapping)"
   ]
  }
 ],
 "metadata": {
  "kernelspec": {
   "display_name": "Python 3",
   "language": "python",
   "name": "python3"
  },
  "language_info": {
   "codemirror_mode": {
    "name": "ipython",
    "version": 3
   },
   "file_extension": ".py",
   "mimetype": "text/x-python",
   "name": "python",
   "nbconvert_exporter": "python",
   "pygments_lexer": "ipython3",
   "version": "3.6.2"
  }
 },
 "nbformat": 4,
 "nbformat_minor": 2
}
