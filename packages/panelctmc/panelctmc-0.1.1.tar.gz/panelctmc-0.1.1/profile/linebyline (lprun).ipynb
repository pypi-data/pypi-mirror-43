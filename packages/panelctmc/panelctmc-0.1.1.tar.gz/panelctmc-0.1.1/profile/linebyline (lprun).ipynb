{
 "cells": [
  {
   "cell_type": "markdown",
   "metadata": {},
   "source": [
    "# Line by Line Execution Time"
   ]
  },
  {
   "cell_type": "code",
   "execution_count": 1,
   "metadata": {},
   "outputs": [],
   "source": [
    "import sys\n",
    "sys.path.append('..')\n",
    "from panelctmc import panelctmc"
   ]
  },
  {
   "cell_type": "code",
   "execution_count": 2,
   "metadata": {},
   "outputs": [],
   "source": [
    "import numpy as np\n",
    "x = np.loadtxt('../data/demo1.csv', delimiter=',', skiprows=1, dtype=object)\n",
    "\n",
    "mapping = [['AAA', 'AA+', 'AA', 'AA-', 'A+', 'A', 'A-'], \n",
    "           ['BBB+', 'BBB', 'BBB-'],\n",
    "           ['BB+', 'BB', 'BB-'], \n",
    "           ['B+', 'B', 'B-']]"
   ]
  },
  {
   "cell_type": "code",
   "execution_count": 3,
   "metadata": {},
   "outputs": [],
   "source": [
    "%load_ext line_profiler"
   ]
  },
  {
   "cell_type": "code",
   "execution_count": 4,
   "metadata": {},
   "outputs": [
    {
     "data": {
      "text/plain": [
       "Timer unit: 1e-06 s\n",
       "\n",
       "Total time: 0.166801 s\n",
       "File: ../panelctmc/panelctmc_func.py\n",
       "Function: panelctmc at line 9\n",
       "\n",
       "Line #      Hits         Time  Per Hit   % Time  Line Contents\n",
       "==============================================================\n",
       "     9                                           def panelctmc(paneldata, mapping, lastdate=None,\n",
       "    10                                                         transintv=1.0, toltime=1e-8, debug=True):\n",
       "    11                                               # check if numpy array\n",
       "    12         1         15.0     15.0      0.0      if not isinstance(paneldata, np.ndarray):\n",
       "    13                                                   raise Exception(\"'paneldata' is not a numpy array\")\n",
       "    14                                           \n",
       "    15                                               # force dtype=object\n",
       "    16         1        279.0    279.0      0.2      paneldata = paneldata.astype(dtype=object)\n",
       "    17                                           \n",
       "    18                                               # convert str to datetime objects\n",
       "    19         1         13.0     13.0      0.0      if isinstance(paneldata[:, 1][0], str):\n",
       "    20         1          2.0      2.0      0.0          paneldata[:, 1] = [datetime.strptime(\n",
       "    21         1     124284.0 124284.0     74.5              p, \"%Y-%m-%d\") for p in paneldata[:, 1]]\n",
       "    22                                           \n",
       "    23                                               # encode state labels\n",
       "    24         1       5951.0   5951.0      3.6      paneldata[:, 2] = grouplabelencode(paneldata[:, 2], mapping, nastate=True)\n",
       "    25                                           \n",
       "    26                                               # convert panel data to ctmc-datalist object\n",
       "    27         1      23009.0  23009.0     13.8      datalist = panel_to_datalist(paneldata, lastdate=lastdate)\n",
       "    28                                           \n",
       "    29                                               # auto correct datalist\n",
       "    30         1       1105.0   1105.0      0.7      datalist = datacorrection(datalist)\n",
       "    31                                           \n",
       "    32                                               # Compute transitition matrix\n",
       "    33         1          1.0      1.0      0.0      transmat, genmat, transcount, statetime = ctmc(\n",
       "    34         1      12139.0  12139.0      7.3          datalist, len(mapping) + 1, 1.0, toltime=1e-8, debug=True)\n",
       "    35                                           \n",
       "    36                                               # done\n",
       "    37         1          3.0      3.0      0.0      return transmat, genmat, transcount, statetime, datalist"
      ]
     },
     "metadata": {},
     "output_type": "display_data"
    }
   ],
   "source": [
    "%lprun -f panelctmc panelctmc(x, mapping)"
   ]
  }
 ],
 "metadata": {
  "kernelspec": {
   "display_name": "Python 3",
   "language": "python",
   "name": "python3"
  },
  "language_info": {
   "codemirror_mode": {
    "name": "ipython",
    "version": 3
   },
   "file_extension": ".py",
   "mimetype": "text/x-python",
   "name": "python",
   "nbconvert_exporter": "python",
   "pygments_lexer": "ipython3",
   "version": "3.6.2"
  }
 },
 "nbformat": 4,
 "nbformat_minor": 2
}
