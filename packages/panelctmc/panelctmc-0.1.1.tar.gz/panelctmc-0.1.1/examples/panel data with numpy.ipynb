{
 "cells": [
  {
   "cell_type": "code",
   "execution_count": 1,
   "metadata": {
    "ExecuteTime": {
     "end_time": "2018-09-18T08:12:38.232692Z",
     "start_time": "2018-09-18T08:12:38.223700Z"
    }
   },
   "outputs": [],
   "source": [
    "import sys\n",
    "sys.path.append('..')\n",
    "from panelctmc import panelctmc, panel_to_datalist"
   ]
  },
  {
   "cell_type": "markdown",
   "metadata": {
    "ExecuteTime": {
     "end_time": "2018-09-18T08:12:38.249524Z",
     "start_time": "2018-09-18T08:12:38.237886Z"
    }
   },
   "source": [
    "### Data Preprocessing with Numpy\n",
    "The input panel data is assumed to be a numpy array with data type `object` for all elements.\n",
    "Panda would automatically convert a dataframe to such a numpy array but when loading data with numpy's `loadtxt` the data type `dtype=object` needs to be specified."
   ]
  },
  {
   "cell_type": "code",
   "execution_count": 2,
   "metadata": {
    "ExecuteTime": {
     "end_time": "2018-09-18T08:12:38.249524Z",
     "start_time": "2018-09-18T08:12:38.237886Z"
    }
   },
   "outputs": [],
   "source": [
    "import numpy as np\n",
    "paneldata = np.loadtxt('../data/demo1.csv', delimiter=',', skiprows=1, dtype=object)"
   ]
  },
  {
   "cell_type": "markdown",
   "metadata": {},
   "source": [
    "The raw input could be strings `dtype=str` but numpy would do some automagic string date conversion what can be avoided by using `dtype=object`.\n",
    "\n",
    "The array contains three columns. \n",
    "`panelctmc` assumes the columns exactly at a specific column index.\n",
    "\n",
    "* 0: The example identifier, e.g. a country\n",
    "* 1: The date as string `'%Y-%m-%d'` or a `datetime.datetime` object\n",
    "* 2: The label, i.e. a nominal value"
   ]
  },
  {
   "cell_type": "code",
   "execution_count": 3,
   "metadata": {
    "ExecuteTime": {
     "end_time": "2018-09-18T08:12:38.249524Z",
     "start_time": "2018-09-18T08:12:38.237886Z"
    }
   },
   "outputs": [
    {
     "data": {
      "text/plain": [
       "array([['Abu Dhabi', '2007-07-02', 'AA'],\n",
       "       ['Angola', '2012-05-23', 'BB-'],\n",
       "       ['Angola', '2011-05-24', 'BB-'],\n",
       "       ...,\n",
       "       ['Vietnam', '2002-06-11', 'BB-'],\n",
       "       ['Zambia', '2012-03-01', 'B+'],\n",
       "       ['Zambia', '2011-03-02', 'B+']], dtype=object)"
      ]
     },
     "execution_count": 3,
     "metadata": {},
     "output_type": "execute_result"
    }
   ],
   "source": [
    "paneldata"
   ]
  },
  {
   "cell_type": "markdown",
   "metadata": {},
   "source": [
    "### Example 1"
   ]
  },
  {
   "cell_type": "markdown",
   "metadata": {},
   "source": [
    "The labels (Third column) are usually very messy, contain data entry errors, and what not.\n",
    "You should first check what unique labels exists."
   ]
  },
  {
   "cell_type": "code",
   "execution_count": 4,
   "metadata": {},
   "outputs": [
    {
     "data": {
      "text/plain": [
       "array(['-', 'A', 'A+', 'A-', 'AA', 'AA+', 'AA-', 'AAA', 'B', 'B+', 'B-',\n",
       "       'BB', 'BB+', 'BB-', 'BBB', 'BBB+', 'BBB-', 'C', 'CC', 'CCC',\n",
       "       'CCC+', 'CCC-', 'D', 'DD', 'DDD', 'RD', 'withdrawn'], dtype=object)"
      ]
     },
     "execution_count": 4,
     "metadata": {},
     "output_type": "execute_result"
    }
   ],
   "source": [
    "np.unique(paneldata[:, 2])"
   ]
  },
  {
   "cell_type": "markdown",
   "metadata": {},
   "source": [
    "Now we need some domain knowledge to make sense of these labels.\n",
    "These labels are Credit Ratings for sovereign bonds from the CRA Fitch.\n",
    "\n",
    "We will group these labels a follows\n",
    "\n",
    "* `AAA` -- supposedly the best credit quality\n",
    "* `AA` and all modifications (notches)\n",
    "* `A` and all modifications\n",
    "* `BBB` and all modifications. Is the lowes \"Investment Grade\" rating\n",
    "* `BB` and all modifications\n",
    "* `B` and all modifications\n",
    "* all `C` ratings\n",
    "* all `D` ratings\n",
    "\n",
    "Everything else (e.g. `-`, `withdrawn`, etc.) is ignored at the moment.\n",
    "`panelctmc` will automatically create a state for missing values."
   ]
  },
  {
   "cell_type": "code",
   "execution_count": 5,
   "metadata": {},
   "outputs": [
    {
     "data": {
      "text/plain": [
       "[['AAA'],\n",
       " ['AA+', 'AA', 'AA-'],\n",
       " ['A+', 'A', 'A-'],\n",
       " ['BBB+', 'BBB', 'BBB-'],\n",
       " ['BB+', 'BB', 'BB-'],\n",
       " ['B+', 'B', 'B-'],\n",
       " ['CCC+', 'CCC', 'CCC-', 'CC', 'C'],\n",
       " ['DDD', 'DD', 'D', 'RD']]"
      ]
     },
     "execution_count": 5,
     "metadata": {},
     "output_type": "execute_result"
    }
   ],
   "source": [
    "mapping = [['AAA'], ['AA+', 'AA', 'AA-'], ['A+', 'A', 'A-'], \n",
    "          ['BBB+', 'BBB', 'BBB-'], ['BB+', 'BB', 'BB-'], \n",
    "          ['B+', 'B', 'B-'], ['CCC+', 'CCC', 'CCC-', 'CC', 'C'], \n",
    "          ['DDD', 'DD', 'D', 'RD']]\n",
    "mapping"
   ]
  },
  {
   "cell_type": "markdown",
   "metadata": {},
   "source": [
    "Estimate the transition matrix"
   ]
  },
  {
   "cell_type": "code",
   "execution_count": 6,
   "metadata": {},
   "outputs": [],
   "source": [
    "transmat, genmat, transcount, statetime, datalist = panelctmc(paneldata, mapping)"
   ]
  },
  {
   "cell_type": "code",
   "execution_count": 7,
   "metadata": {},
   "outputs": [
    {
     "name": "stdout",
     "output_type": "stream",
     "text": [
      "Num Examples: 71\n",
      "Num Transitions: 173\n",
      "[ 70.1 172.1 152.8 194.6 182.8 152.8  20.9  10.3  28.3]\n"
     ]
    },
    {
     "data": {
      "text/plain": [
       "array([[0.959, 0.04 , 0.001, 0.   , 0.   , 0.   , 0.   , 0.   , 0.   ],\n",
       "       [0.043, 0.897, 0.057, 0.003, 0.   , 0.   , 0.   , 0.   , 0.   ],\n",
       "       [0.001, 0.029, 0.887, 0.08 , 0.003, 0.   , 0.   , 0.   , 0.   ],\n",
       "       [0.   , 0.001, 0.063, 0.864, 0.064, 0.007, 0.   , 0.   , 0.   ],\n",
       "       [0.   , 0.   , 0.004, 0.109, 0.8  , 0.082, 0.003, 0.   , 0.002],\n",
       "       [0.   , 0.   , 0.   , 0.007, 0.104, 0.793, 0.051, 0.008, 0.038],\n",
       "       [0.   , 0.   , 0.   , 0.001, 0.014, 0.212, 0.526, 0.172, 0.075],\n",
       "       [0.   , 0.   , 0.   , 0.001, 0.027, 0.381, 0.064, 0.515, 0.012],\n",
       "       [0.   , 0.   , 0.   , 0.   , 0.   , 0.   , 0.   , 0.   , 1.   ]])"
      ]
     },
     "execution_count": 7,
     "metadata": {},
     "output_type": "execute_result"
    }
   ],
   "source": [
    "print(\"Num Examples: {:d}\".format(len(datalist)))\n",
    "print(\"Num Transitions: {:d}\".format(transcount.sum()))\n",
    "print(statetime.round(1))\n",
    "transmat.round(3)"
   ]
  },
  {
   "cell_type": "markdown",
   "metadata": {},
   "source": [
    "First, note that we specified 8 groups but `panelctmc` outputs 9 states. The last state (9th row and column) is the state for missing labels.\n",
    "\n",
    "Second, let's look at `statetime`. \n",
    "In my opinion `statetime` should be somewhat across all states.\n",
    "`statetime` is used as denominator in the calculation of the generator matrix.\n",
    "A low duration in a particular state indicates that there are not many observations as well (rule of thumb). In other words, a low time period of a state indicate a non-generalizable transition probability estimation."
   ]
  },
  {
   "cell_type": "markdown",
   "metadata": {},
   "source": [
    "### Example 2\n",
    "In this example, we changed the group label mapping.\n",
    "Just check `statetime` and compare with Example 1."
   ]
  },
  {
   "cell_type": "code",
   "execution_count": 8,
   "metadata": {},
   "outputs": [],
   "source": [
    "mapping = [['AAA', 'AA+', 'AA', 'AA-', 'A+', 'A', 'A-'], \n",
    "           ['BBB+', 'BBB', 'BBB-'],\n",
    "           ['BB+', 'BB', 'BB-'], \n",
    "           ['B+', 'B', 'B-']]\n",
    "\n",
    "transmat, genmat, transcount, statetime, datalist = panelctmc(paneldata, mapping)"
   ]
  },
  {
   "cell_type": "code",
   "execution_count": 9,
   "metadata": {},
   "outputs": [
    {
     "name": "stdout",
     "output_type": "stream",
     "text": [
      "Num Examples: 59\n",
      "Num Transitions: 136\n",
      "[198.1 194.6 182.8 152.8  59.5]\n"
     ]
    },
    {
     "data": {
      "text/plain": [
       "array([[0.934, 0.063, 0.002, 0.   , 0.   ],\n",
       "       [0.064, 0.864, 0.064, 0.007, 0.   ],\n",
       "       [0.004, 0.109, 0.8  , 0.083, 0.005],\n",
       "       [0.   , 0.007, 0.104, 0.794, 0.095],\n",
       "       [0.   , 0.   , 0.01 , 0.15 , 0.84 ]])"
      ]
     },
     "execution_count": 9,
     "metadata": {},
     "output_type": "execute_result"
    }
   ],
   "source": [
    "print(\"Num Examples: {:d}\".format(len(datalist)))\n",
    "print(\"Num Transitions: {:d}\".format(transcount.sum()))\n",
    "print(statetime.round(1))\n",
    "transmat.round(3)"
   ]
  },
  {
   "cell_type": "code",
   "execution_count": 10,
   "metadata": {},
   "outputs": [
    {
     "data": {
      "text/plain": [
       "1.0"
      ]
     },
     "execution_count": 10,
     "metadata": {},
     "output_type": "execute_result"
    }
   ],
   "source": [
    "sum(transmat[0,:])"
   ]
  },
  {
   "cell_type": "code",
   "execution_count": null,
   "metadata": {},
   "outputs": [],
   "source": []
  }
 ],
 "metadata": {
  "kernelspec": {
   "display_name": "Python 3",
   "language": "python",
   "name": "python3"
  },
  "language_info": {
   "codemirror_mode": {
    "name": "ipython",
    "version": 3
   },
   "file_extension": ".py",
   "mimetype": "text/x-python",
   "name": "python",
   "nbconvert_exporter": "python",
   "pygments_lexer": "ipython3",
   "version": "3.6.2"
  },
  "toc": {
   "base_numbering": 1,
   "nav_menu": {},
   "number_sections": true,
   "sideBar": true,
   "skip_h1_title": false,
   "title_cell": "Table of Contents",
   "title_sidebar": "Contents",
   "toc_cell": false,
   "toc_position": {},
   "toc_section_display": true,
   "toc_window_display": false
  },
  "varInspector": {
   "cols": {
    "lenName": 16,
    "lenType": 16,
    "lenVar": 40
   },
   "kernels_config": {
    "python": {
     "delete_cmd_postfix": "",
     "delete_cmd_prefix": "del ",
     "library": "var_list.py",
     "varRefreshCmd": "print(var_dic_list())"
    },
    "r": {
     "delete_cmd_postfix": ") ",
     "delete_cmd_prefix": "rm(",
     "library": "var_list.r",
     "varRefreshCmd": "cat(var_dic_list()) "
    }
   },
   "types_to_exclude": [
    "module",
    "function",
    "builtin_function_or_method",
    "instance",
    "_Feature"
   ],
   "window_display": false
  }
 },
 "nbformat": 4,
 "nbformat_minor": 2
}
