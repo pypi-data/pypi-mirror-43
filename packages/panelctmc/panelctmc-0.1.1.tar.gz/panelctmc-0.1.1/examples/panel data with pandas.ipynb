{
 "cells": [
  {
   "cell_type": "code",
   "execution_count": 1,
   "metadata": {
    "ExecuteTime": {
     "end_time": "2018-09-18T08:12:38.232692Z",
     "start_time": "2018-09-18T08:12:38.223700Z"
    }
   },
   "outputs": [],
   "source": [
    "import sys\n",
    "sys.path.append('..')\n",
    "from panelctmc import panelctmc, panel_to_datalist"
   ]
  },
  {
   "cell_type": "markdown",
   "metadata": {},
   "source": [
    "### Data Preprocesing with Pandas\n",
    "The input table is assumed to be a numpy array with the data type `dtype=object` for all elements.\n",
    "Pandas data frames are converted to numpy array with `dtype=object` by default. "
   ]
  },
  {
   "cell_type": "code",
   "execution_count": 2,
   "metadata": {
    "ExecuteTime": {
     "end_time": "2018-09-18T08:12:38.249524Z",
     "start_time": "2018-09-18T08:12:38.237886Z"
    }
   },
   "outputs": [
    {
     "data": {
      "text/plain": [
       "array([['Abu Dhabi', '2007-07-02', 'AA'],\n",
       "       ['Angola', '2012-05-23', 'BB-'],\n",
       "       ['Angola', '2011-05-24', 'BB-'],\n",
       "       ...,\n",
       "       ['Vietnam', '2002-06-11', 'BB-'],\n",
       "       ['Zambia', '2012-03-01', 'B+'],\n",
       "       ['Zambia', '2011-03-02', 'B+']], dtype=object)"
      ]
     },
     "execution_count": 2,
     "metadata": {},
     "output_type": "execute_result"
    }
   ],
   "source": [
    "import pandas as pd\n",
    "df = pd.read_csv(\"../data/demo1.csv\", delimiter=',')\n",
    "paneldata = df.values\n",
    "paneldata"
   ]
  },
  {
   "cell_type": "markdown",
   "metadata": {},
   "source": [
    "### Example"
   ]
  },
  {
   "cell_type": "code",
   "execution_count": 3,
   "metadata": {},
   "outputs": [],
   "source": [
    "mapping = {0: ['AAA', 'AA+', 'AA', 'AA-', 'A+', 'A', 'A-', 'BBB+', 'BBB', 'BBB-'],\n",
    "           1: ['BB+', 'BB', 'BB-', 'B+', 'B', 'B-', 'CCC+', 'CCC', 'CCC-', 'CC', 'C']}\n",
    "\n",
    "transmat, genmat, transcount, statetime, datalist = panelctmc(paneldata, mapping)"
   ]
  },
  {
   "cell_type": "code",
   "execution_count": 4,
   "metadata": {},
   "outputs": [
    {
     "name": "stdout",
     "output_type": "stream",
     "text": [
      "Num Examples: 41\n",
      "Num Transitions: 62\n",
      "[266.3 254.7  38.6]\n"
     ]
    },
    {
     "data": {
      "text/plain": [
       "array([[0.944, 0.054, 0.002],\n",
       "       [0.085, 0.865, 0.05 ],\n",
       "       [0.008, 0.154, 0.839]])"
      ]
     },
     "execution_count": 4,
     "metadata": {},
     "output_type": "execute_result"
    }
   ],
   "source": [
    "print(\"Num Examples: {:d}\".format(len(datalist)))\n",
    "print(\"Num Transitions: {:d}\".format(transcount.sum()))\n",
    "print(statetime.round(1))\n",
    "transmat.round(3)"
   ]
  }
 ],
 "metadata": {
  "kernelspec": {
   "display_name": "Python 3",
   "language": "python",
   "name": "python3"
  },
  "language_info": {
   "codemirror_mode": {
    "name": "ipython",
    "version": 3
   },
   "file_extension": ".py",
   "mimetype": "text/x-python",
   "name": "python",
   "nbconvert_exporter": "python",
   "pygments_lexer": "ipython3",
   "version": "3.6.2"
  },
  "toc": {
   "base_numbering": 1,
   "nav_menu": {},
   "number_sections": true,
   "sideBar": true,
   "skip_h1_title": false,
   "title_cell": "Table of Contents",
   "title_sidebar": "Contents",
   "toc_cell": false,
   "toc_position": {},
   "toc_section_display": true,
   "toc_window_display": false
  },
  "varInspector": {
   "cols": {
    "lenName": 16,
    "lenType": 16,
    "lenVar": 40
   },
   "kernels_config": {
    "python": {
     "delete_cmd_postfix": "",
     "delete_cmd_prefix": "del ",
     "library": "var_list.py",
     "varRefreshCmd": "print(var_dic_list())"
    },
    "r": {
     "delete_cmd_postfix": ") ",
     "delete_cmd_prefix": "rm(",
     "library": "var_list.r",
     "varRefreshCmd": "cat(var_dic_list()) "
    }
   },
   "types_to_exclude": [
    "module",
    "function",
    "builtin_function_or_method",
    "instance",
    "_Feature"
   ],
   "window_display": false
  }
 },
 "nbformat": 4,
 "nbformat_minor": 2
}
