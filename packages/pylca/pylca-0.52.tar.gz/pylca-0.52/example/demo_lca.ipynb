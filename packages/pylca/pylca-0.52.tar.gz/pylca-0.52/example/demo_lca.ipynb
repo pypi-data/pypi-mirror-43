{
 "cells": [
  {
   "cell_type": "code",
   "execution_count": 1,
   "metadata": {},
   "outputs": [],
   "source": [
    "# install the package for google colab \n",
    "!pip install pylca "
   ]
  },
  {
   "cell_type": "code",
   "execution_count": 1,
   "metadata": {},
   "outputs": [
    {
     "ename": "ModuleNotFoundError",
     "evalue": "No module named 'pylca'",
     "output_type": "error",
     "traceback": [
      "\u001b[0;31m---------------------------------------------------------------------------\u001b[0m",
      "\u001b[0;31mModuleNotFoundError\u001b[0m                       Traceback (most recent call last)",
      "\u001b[0;32m<ipython-input-1-cd16a9734f34>\u001b[0m in \u001b[0;36m<module>\u001b[0;34m()\u001b[0m\n\u001b[1;32m      5\u001b[0m \u001b[0;32mimport\u001b[0m \u001b[0mmatplotlib\u001b[0m\u001b[0;34m.\u001b[0m\u001b[0mpyplot\u001b[0m \u001b[0;32mas\u001b[0m \u001b[0mplt\u001b[0m\u001b[0;34m\u001b[0m\u001b[0m\n\u001b[1;32m      6\u001b[0m \u001b[0;32mimport\u001b[0m \u001b[0mseaborn\u001b[0m \u001b[0;32mas\u001b[0m \u001b[0msns\u001b[0m\u001b[0;34m\u001b[0m\u001b[0m\n\u001b[0;32m----> 7\u001b[0;31m \u001b[0;32mfrom\u001b[0m \u001b[0mpylca\u001b[0m \u001b[0;32mimport\u001b[0m \u001b[0mLCA\u001b[0m\u001b[0;34m\u001b[0m\u001b[0m\n\u001b[0m\u001b[1;32m      8\u001b[0m \u001b[0;34m\u001b[0m\u001b[0m\n\u001b[1;32m      9\u001b[0m \u001b[0msns\u001b[0m\u001b[0;34m.\u001b[0m\u001b[0mset\u001b[0m\u001b[0;34m(\u001b[0m\u001b[0mstyle\u001b[0m\u001b[0;34m=\u001b[0m\u001b[0;34m'white'\u001b[0m\u001b[0;34m,\u001b[0m \u001b[0mpalette\u001b[0m\u001b[0;34m=\u001b[0m\u001b[0;34m'colorblind'\u001b[0m\u001b[0;34m,\u001b[0m \u001b[0mcontext\u001b[0m\u001b[0;34m=\u001b[0m\u001b[0;34m'talk'\u001b[0m\u001b[0;34m)\u001b[0m\u001b[0;34m\u001b[0m\u001b[0m\n",
      "\u001b[0;31mModuleNotFoundError\u001b[0m: No module named 'pylca'"
     ]
    }
   ],
   "source": [
    "\"\"\"\n",
    "LCA, demonstrate the effect of competition\n",
    "\"\"\"\n",
    "import numpy as np\n",
    "import matplotlib.pyplot as plt\n",
    "import seaborn as sns\n",
    "from pylca import LCA\n",
    "\n",
    "sns.set(style='white', palette='colorblind', context='talk')\n",
    "np.random.seed(0)\n",
    "%matplotlib inline "
   ]
  },
  {
   "cell_type": "code",
   "execution_count": 3,
   "metadata": {},
   "outputs": [
    {
     "name": "stdout",
     "output_type": "stream",
     "text": [
      "0.0034868717193603516\n"
     ]
    }
   ],
   "source": [
    "\"\"\"model params\n",
    "\"\"\"\n",
    "n_units = 3\n",
    "# input weights\n",
    "w_input = 1\n",
    "# decision param\n",
    "leak = .5\n",
    "competition = 1\n",
    "self_excit = 0\n",
    "# time step size\n",
    "dt = .1\n",
    "#\n",
    "self_excit = 0\n",
    "w_cross = 0\n",
    "offset = 0\n",
    "noise_sd = .1\n",
    "\n",
    "# init LCA\n",
    "lca = LCA(\n",
    "    n_units, dt, leak, competition,\n",
    "    self_excit=self_excit, w_input=w_input, w_cross=w_cross,\n",
    "    offset=offset, noise_sd=noise_sd,\n",
    ")\n",
    "\n",
    "\"\"\"run LCA\n",
    "\"\"\"\n",
    "# make inputs: turning on more and more units\n",
    "T = 25\n",
    "input_patterns = list(np.tril(np.ones((n_units, n_units)), k=0))\n",
    "# run LCA for all input patterns\n",
    "vals = []\n",
    "for input_pattern in input_patterns:\n",
    "    input_seq = np.tile(input_pattern, (T, 1))\n",
    "    vals.append(lca.run(input_seq))"
   ]
  },
  {
   "cell_type": "code",
   "execution_count": null,
   "metadata": {},
   "outputs": [],
   "source": [
    "\"\"\"plot\n",
    "if more units are activated, they compete and inhibit each other,\n",
    "as a result, the uncertainty of the system is larger\n",
    "\"\"\"\n",
    "\n",
    "title_list = ['Turn on %d units' % (k+1) for k in range(n_units)]\n",
    "\n",
    "f, axes = plt.subplots(n_units, 1, figsize=(8, 3*n_units), sharex=True)\n",
    "for i, ax in enumerate(axes):\n",
    "    ax.plot(vals[i])\n",
    "    ax.set_title(f'{title_list[i]} (i.e. input = {input_patterns[i]})')\n",
    "    ax.set_ylabel('LCA activity')\n",
    "    ax.set_ylim([-.05, 1.05])\n",
    "    ax.axhline(0, linestyle='--', color='grey')\n",
    "axes[-1].set_xlabel('Time')\n",
    "f.tight_layout()\n",
    "sns.despine()"
   ]
  },
  {
   "cell_type": "code",
   "execution_count": null,
   "metadata": {},
   "outputs": [],
   "source": [
    "\"\"\" run a larger simulation\n",
    "plot the max activity as a function of the number of units get activated\n",
    "\"\"\"\n",
    "# use more units, zero noise to clean the pattern\n",
    "n_units = 7\n",
    "noise_sd = 0\n",
    "# init LCA\n",
    "lca = LCA(\n",
    "    n_units, dt, leak, competition,\n",
    "    self_excit=self_excit, w_input=w_input, w_cross=w_cross,\n",
    "    offset=offset, noise_sd=noise_sd,\n",
    ")\n",
    "\n",
    "\"\"\"run LCA\n",
    "\"\"\"\n",
    "# make inputs: turning on more and more units\n",
    "input_patterns = list(np.tril(np.ones((n_units, n_units)), k=0))\n",
    "# run LCA for all input patterns\n",
    "vals = []\n",
    "for input_pattern in input_patterns:\n",
    "    input_seq = np.tile(input_pattern, (T, 1))\n",
    "    vals.append(lca.run(input_seq))"
   ]
  },
  {
   "cell_type": "code",
   "execution_count": null,
   "metadata": {},
   "outputs": [],
   "source": [
    "\n",
    "\"\"\"plot\n",
    "again, if more units are activated, they compete and inhibit each other,\n",
    "as a result, the uncertainty of the system is larger\n",
    "\"\"\"\n",
    "f, ax = plt.subplots(1, 1, figsize=(8, 4), sharex=True)\n",
    "col_pal = sns.color_palette('GnBu_d', n_colors=n_units)\n",
    "for i in range(n_units):\n",
    "    ax.plot(np.max(vals[i], axis=1), color=col_pal[i])\n",
    "ax.axhline(0, linestyle='--', color='grey')\n",
    "ax.set_title(f'The effect of turning on more and more units')\n",
    "ax.set_xlabel('Time')\n",
    "ax.set_ylabel('MAX(LCA activity)')\n",
    "ax.set_ylim([-.05, 1.05])\n",
    "legend_list = [f'%d / {n_units}' % (k+1) for k in range(n_units)]\n",
    "f.legend(\n",
    "    legend_list, title='# units ON', frameon=False, bbox_to_anchor=(1.15, .9))\n",
    "f.tight_layout()\n",
    "sns.despine()\n"
   ]
  }
 ],
 "metadata": {
  "kernelspec": {
   "display_name": "Python 3",
   "language": "python",
   "name": "python3"
  },
  "language_info": {
   "codemirror_mode": {
    "name": "ipython",
    "version": 3
   },
   "file_extension": ".py",
   "mimetype": "text/x-python",
   "name": "python",
   "nbconvert_exporter": "python",
   "pygments_lexer": "ipython3",
   "version": "3.6.1"
  },
  "varInspector": {
   "cols": {
    "lenName": 16,
    "lenType": 16,
    "lenVar": 40
   },
   "kernels_config": {
    "python": {
     "delete_cmd_postfix": "",
     "delete_cmd_prefix": "del ",
     "library": "var_list.py",
     "varRefreshCmd": "print(var_dic_list())"
    },
    "r": {
     "delete_cmd_postfix": ") ",
     "delete_cmd_prefix": "rm(",
     "library": "var_list.r",
     "varRefreshCmd": "cat(var_dic_list()) "
    }
   },
   "types_to_exclude": [
    "module",
    "function",
    "builtin_function_or_method",
    "instance",
    "_Feature"
   ],
   "window_display": false
  }
 },
 "nbformat": 4,
 "nbformat_minor": 2
}
